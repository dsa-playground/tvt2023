{
 "cells": [
  {
   "attachments": {},
   "cell_type": "markdown",
   "metadata": {},
   "source": [
    "# Laden omgeving en software"
   ]
  },
  {
   "cell_type": "code",
   "execution_count": null,
   "metadata": {},
   "outputs": [],
   "source": [
    "# !git clone https://github.com/dsa-playground/tvt2023.git\n",
    "# %cd /content/tvt2023/\n",
    "# !git pull\n",
    "# !pip install -r requirements.txt -t \"tvt2023\"\n",
    "# !pip install pyaml-env"
   ]
  },
  {
   "cell_type": "code",
   "execution_count": null,
   "metadata": {},
   "outputs": [],
   "source": [
    "# Imports\n",
    "import warnings\n",
    "import pandas as pd\n",
    "from scripts.preprocess.preprocess_frontend import laden_data, vereenvoudigen_data, aanpassen_data, voeg_passagiers_toe\n",
    "from scripts.EDA.eda import basis_feiten, visualisatie_ticketklasse, visualisatie_opstapplaats, visualisatie_leeftijd_geslacht, visualisatie_familieleden\n",
    "from scripts.modeling.modeling_frontend import experimenteer_met_aantal_buren, verdieping_specifiek_model, voorspelling_genereren\n",
    "from scripts.evaluation.evaluation import geef_belangrijkste_variabelen \n",
    "\n",
    "# Settings\n",
    "# settings for pandas\n",
    "pd.set_option(\"display.max.columns\",None) # alle kolommen tonen\n",
    "pd.set_option(\"display.max.rows\",500)    # eerste 500 rijen tonen\n",
    "pd.set_option(\"display.precision\", 2)     # precisie van de kolommen aanpassen\n",
    "pd.set_option('display.float_format', lambda x: '{:.3f}'.format(x)) # floats output tot 3 decimalen\n",
    "pd.set_option('display.max_colwidth', None)\n",
    "\n",
    "# Disable warnings\n",
    "warnings.filterwarnings('ignore')"
   ]
  },
  {
   "attachments": {},
   "cell_type": "markdown",
   "metadata": {},
   "source": [
    "# Inleiding\n",
    "\n",
    "### Use case 'Titanic'\n",
    "![Laatste foto van de Titanic](https://raw.githubusercontent.com/dsa-playground/tvt2023/main/images/lastphoto_titanic.png)\n",
    "\n",
    "Plenair is CRISP-DM toegelicht, inclusief wat de acties zijn in de eerste 3 stappen:\n",
    "1. Business Understanding \n",
    "2. Data Understanding\n",
    "3. Data Preparation\n",
    "\n",
    "Nu gaan jullie aan de slag! In de cellen hieronder kunnen jullie inzicht krijgen in de data. Kunnen jullie met deze informatie antwoord geven op de bijbehorende vragen? \n",
    "\n",
    "### 1. Business Understanding\n",
    "De hypothese voor deze use case luidt:\n",
    "\n",
    "*Kan een algoritme voorspellen of een passagier de Titanic heeft overleefd?*\n",
    "\n",
    "En... *of we het zelf overleefd zouden hebben?*\n",
    "\n",
    "### 2. Data Understanding\n",
    "Bekijk de originele dataset:"
   ]
  },
  {
   "cell_type": "code",
   "execution_count": null,
   "metadata": {},
   "outputs": [],
   "source": [
    "df_train, df_test = laden_data()\n",
    "display(df_train.head())"
   ]
  },
  {
   "attachments": {},
   "cell_type": "markdown",
   "metadata": {},
   "source": [
    "Zoals je ziet is de dataset in het Engels en soms wat cryptisch weergegeven. Laten we het vereenvoudigen. "
   ]
  },
  {
   "cell_type": "code",
   "execution_count": null,
   "metadata": {},
   "outputs": [],
   "source": [
    "df_train_clean, df_test_clean = vereenvoudigen_data(df_train, df_test)\n",
    "display(df_train_clean.head())"
   ]
  },
  {
   "attachments": {},
   "cell_type": "markdown",
   "metadata": {},
   "source": [
    "**Opgave 2.1.** Welke variabelen zijn belangrijk als verklarende variabele?\n",
    "\n",
    "**Opgave 2.2.** Welke variabele is het doel?\n",
    "\n",
    "We kunnen naast de tabel ook een aantal (beknopte) verkennende analyse uitvoeren. Druk op de onderstaande play knoppen om dit te doen."
   ]
  },
  {
   "cell_type": "code",
   "execution_count": null,
   "metadata": {},
   "outputs": [],
   "source": [
    "basis_feiten(df=df_train_clean)"
   ]
  },
  {
   "attachments": {},
   "cell_type": "markdown",
   "metadata": {},
   "source": [
    "**Opgave 2.3.** Welke kolommen hebben missende waarden?"
   ]
  },
  {
   "cell_type": "code",
   "execution_count": null,
   "metadata": {},
   "outputs": [],
   "source": [
    "visualisatie_ticketklasse(df=df_train_clean)"
   ]
  },
  {
   "attachments": {},
   "cell_type": "markdown",
   "metadata": {},
   "source": [
    "**Opgave 2.4.** In welke klasse hebben weinig passagiers het overleefd?"
   ]
  },
  {
   "cell_type": "code",
   "execution_count": null,
   "metadata": {},
   "outputs": [],
   "source": [
    "visualisatie_leeftijd_geslacht(df=df_train_clean)"
   ]
  },
  {
   "attachments": {},
   "cell_type": "markdown",
   "metadata": {},
   "source": [
    "De 3D-grafiek is op verschillende manieren te bekijken:\n",
    "- Scrollen leidt tot in- en/of uitzoomen\n",
    "- Rechtermuisknop vasthouden en bewegen leidt tot het draaien van de grafiek\n",
    "- Je ziet extra informatie als je met de muis over de punten beweegt. \n",
    "\n",
    "**Opgave 2.5.** Wat valt je op aan deze (3D) grafiek?"
   ]
  },
  {
   "cell_type": "code",
   "execution_count": null,
   "metadata": {},
   "outputs": [],
   "source": [
    "visualisatie_familieleden(df=df_train_clean)"
   ]
  },
  {
   "attachments": {},
   "cell_type": "markdown",
   "metadata": {},
   "source": [
    "**Opgave 2.6.** Welke distributie past het beste bij het percentage aantal familieleden dat overleefd heeft?\n",
    "\n",
    "### 3. Data preparation\n",
    "Laten we de dataset aanpassen zodat deze geschikt is voor een algoritme. Met de cel hieronder kun je de oude en opgeschoonde dataset bekijken."
   ]
  },
  {
   "cell_type": "code",
   "execution_count": null,
   "metadata": {},
   "outputs": [],
   "source": [
    "df_train_num, df_test_num = aanpassen_data(df_train_clean, df_test_clean)\n",
    "display(df_train_clean.head())\n",
    "display(df_train_num.head())"
   ]
  },
  {
   "attachments": {},
   "cell_type": "markdown",
   "metadata": {},
   "source": [
    "**Opgave 3.1.** Wat valt je op aan de opgeschoonde dataset? \n",
    "\n",
    "#### Intermezzo: We zullen voordoen hoe je jezelf toe kan voegen aan de dataset. \n",
    "\n",
    "**Opgave 3.2.** Voeg jezelf toe aan de dataset."
   ]
  },
  {
   "cell_type": "code",
   "execution_count": null,
   "metadata": {},
   "outputs": [],
   "source": [
    "df_train_extended, df_test_extended = voeg_passagiers_toe(df_train_num, df_test_num)\n",
    "display(df_test_extended.tail())"
   ]
  },
  {
   "attachments": {},
   "cell_type": "markdown",
   "metadata": {},
   "source": [
    "### 4. Modeling\n",
    "Voer het onderstaande experiment uit met een veranderende parameter 'buren' (van 1 t/m 10)."
   ]
  },
  {
   "cell_type": "code",
   "execution_count": null,
   "metadata": {},
   "outputs": [],
   "source": [
    "df_experiment = experimenteer_met_aantal_buren(df=df_train_extended, ondergrens=1, bovengrens=10)\n",
    "display(df_experiment)"
   ]
  },
  {
   "attachments": {},
   "cell_type": "markdown",
   "metadata": {},
   "source": [
    "**Opgave 4.1.** Vraag voor gevorderde(n): Waarom zou een ‘even’ aantal buren niet aan te raden zijn?\n",
    "\n",
    "### 5. Evaluation\n",
    "Laten we de passagiers voorspellen waarvoor onbekend is of ze het overleefd hebben, waaronder ons zelf! "
   ]
  },
  {
   "cell_type": "code",
   "execution_count": null,
   "metadata": {},
   "outputs": [],
   "source": [
    "df_voorspelling = voorspelling_genereren(X=df_test_extended)\n",
    "display(df_voorspelling.tail())"
   ]
  },
  {
   "attachments": {},
   "cell_type": "markdown",
   "metadata": {},
   "source": [
    "Voor sommige is het resultaat wellicht teleurstellend.   \n",
    "Maar wees gerust, er zijn een aantal variabelen doorslaggevend en bij een goed doorlopen CRISP-DM proces heb je deze in beeld en kun (vroegtijdig) ingrijpen.  \n",
    "\n",
    "In onderstaande visualisatie kun je zien welke variabelen doorgeslaggevend waren. "
   ]
  },
  {
   "cell_type": "code",
   "execution_count": null,
   "metadata": {},
   "outputs": [],
   "source": [
    "geef_belangrijkste_variabelen(df_train_num)"
   ]
  },
  {
   "attachments": {},
   "cell_type": "markdown",
   "metadata": {},
   "source": [
    "**Opgave 5.1.** In welke mate komt de inschatting bij opgave 2.1 overeen met de visualisatie van variabelen die de meeste invloed uitoefenen?\n",
    "\n",
    "### 6. Deployment\n",
    "Deployment gaat te ver voor de introductie in Data Science. Tijd voor de wrap up. "
   ]
  }
 ],
 "metadata": {
  "kernelspec": {
   "display_name": "dsa_playground",
   "language": "python",
   "name": "python3"
  },
  "language_info": {
   "codemirror_mode": {
    "name": "ipython",
    "version": 3
   },
   "file_extension": ".py",
   "mimetype": "text/x-python",
   "name": "python",
   "nbconvert_exporter": "python",
   "pygments_lexer": "ipython3",
   "version": "3.8.16"
  },
  "orig_nbformat": 4,
  "vscode": {
   "interpreter": {
    "hash": "8fe137265739bd635879ac58dbb1e119fb20331fc21c230c0a3ac264dce85890"
   }
  }
 },
 "nbformat": 4,
 "nbformat_minor": 2
}
