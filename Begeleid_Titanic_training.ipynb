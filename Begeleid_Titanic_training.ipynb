{
 "cells": [
  {
   "attachments": {},
   "cell_type": "markdown",
   "metadata": {},
   "source": [
    "# Laden omgeving en software"
   ]
  },
  {
   "cell_type": "code",
   "execution_count": null,
   "metadata": {},
   "outputs": [],
   "source": [
    "# !git clone https://github.com/dsa-playground/tvt2023.git\n",
    "# %cd /content/tvt2023/\n",
    "# !git pull\n",
    "# !pip install -r requirements.txt -t \"tvt2023\"\n",
    "# !pip install pyaml-env"
   ]
  },
  {
   "cell_type": "code",
   "execution_count": 1,
   "metadata": {},
   "outputs": [],
   "source": [
    "# Imports\n",
    "import warnings\n",
    "import pandas as pd\n",
    "from scripts.preprocess.preprocess_frontend import laden_data, vereenvoudigen_data, aanpassen_data, voeg_passagiers_toe\n",
    "from scripts.EDA.eda import basis_feiten, visualisatie_ticketklasse, visualisatie_opstapplaats, visualisatie_leeftijd_geslacht, visualisatie_familieleden\n",
    "from scripts.modeling.modeling_frontend import experimenteer_met_aantal_buren, verdieping_specifiek_model, voorspelling_genereren\n",
    "from scripts.evaluation.evaluation import geef_belangrijkste_variabelen \n",
    "\n",
    "# Settings\n",
    "# settings for pandas\n",
    "pd.set_option(\"display.max.columns\",None) # alle kolommen tonen\n",
    "pd.set_option(\"display.max.rows\",500)    # eerste 500 rijen tonen\n",
    "pd.set_option(\"display.precision\", 2)     # precisie van de kolommen aanpassen\n",
    "pd.set_option('display.float_format', lambda x: '{:.3f}'.format(x)) # floats output tot 3 decimalen\n",
    "pd.set_option('display.max_colwidth', None)\n",
    "\n",
    "# Disable warnings\n",
    "warnings.filterwarnings('ignore')"
   ]
  },
  {
   "attachments": {},
   "cell_type": "markdown",
   "metadata": {},
   "source": [
    "# Inleiding\n",
    "\n",
    "### Use case 'Titanic'\n",
    "![Laatste foto van de Titanic](https://raw.githubusercontent.com/dsa-playground/tvt2023/main/images/lastphoto_titanic.png)\n",
    "\n",
    "Plenair is CRISP-DM toegelicht, inclusief wat de acties zijn in de eerste 3 stappen:\n",
    "1. Business Understanding \n",
    "2. Data Understanding\n",
    "3. Data Preparation\n",
    "\n",
    "Nu gaan jullie aan de slag! In de cellen hieronder kunnen jullie inzicht krijgen in de data. Kunnen jullie met deze informatie antwoord geven op de bijbehorende vragen? \n",
    "\n",
    "### 1. Business Understanding\n",
    "De hypothese voor deze use case luidt:\n",
    "\n",
    "*Kan een algoritme voorspellen of een passagier de Titanic heeft overleefd?*\n",
    "\n",
    "En... *of we het zelf overleefd zouden hebben?*\n",
    "\n",
    "### 2. Data Understanding\n",
    "Bekijk in de cel hieronder de originele dataset:"
   ]
  },
  {
   "cell_type": "code",
   "execution_count": 2,
   "metadata": {},
   "outputs": [
    {
     "data": {
      "text/html": [
       "<div>\n",
       "<style scoped>\n",
       "    .dataframe tbody tr th:only-of-type {\n",
       "        vertical-align: middle;\n",
       "    }\n",
       "\n",
       "    .dataframe tbody tr th {\n",
       "        vertical-align: top;\n",
       "    }\n",
       "\n",
       "    .dataframe thead th {\n",
       "        text-align: right;\n",
       "    }\n",
       "</style>\n",
       "<table border=\"1\" class=\"dataframe\">\n",
       "  <thead>\n",
       "    <tr style=\"text-align: right;\">\n",
       "      <th></th>\n",
       "      <th>PassengerId</th>\n",
       "      <th>Survived</th>\n",
       "      <th>Pclass</th>\n",
       "      <th>Name</th>\n",
       "      <th>Sex</th>\n",
       "      <th>Age</th>\n",
       "      <th>SibSp</th>\n",
       "      <th>Parch</th>\n",
       "      <th>Ticket</th>\n",
       "      <th>Fare</th>\n",
       "      <th>Cabin</th>\n",
       "      <th>Embarked</th>\n",
       "    </tr>\n",
       "  </thead>\n",
       "  <tbody>\n",
       "    <tr>\n",
       "      <th>0</th>\n",
       "      <td>1</td>\n",
       "      <td>0</td>\n",
       "      <td>3</td>\n",
       "      <td>Braund, Mr. Owen Harris</td>\n",
       "      <td>male</td>\n",
       "      <td>22.000</td>\n",
       "      <td>1</td>\n",
       "      <td>0</td>\n",
       "      <td>A/5 21171</td>\n",
       "      <td>7.250</td>\n",
       "      <td>NaN</td>\n",
       "      <td>S</td>\n",
       "    </tr>\n",
       "    <tr>\n",
       "      <th>1</th>\n",
       "      <td>2</td>\n",
       "      <td>1</td>\n",
       "      <td>1</td>\n",
       "      <td>Cumings, Mrs. John Bradley (Florence Briggs Thayer)</td>\n",
       "      <td>female</td>\n",
       "      <td>38.000</td>\n",
       "      <td>1</td>\n",
       "      <td>0</td>\n",
       "      <td>PC 17599</td>\n",
       "      <td>71.283</td>\n",
       "      <td>C85</td>\n",
       "      <td>C</td>\n",
       "    </tr>\n",
       "    <tr>\n",
       "      <th>2</th>\n",
       "      <td>3</td>\n",
       "      <td>1</td>\n",
       "      <td>3</td>\n",
       "      <td>Heikkinen, Miss. Laina</td>\n",
       "      <td>female</td>\n",
       "      <td>26.000</td>\n",
       "      <td>0</td>\n",
       "      <td>0</td>\n",
       "      <td>STON/O2. 3101282</td>\n",
       "      <td>7.925</td>\n",
       "      <td>NaN</td>\n",
       "      <td>S</td>\n",
       "    </tr>\n",
       "    <tr>\n",
       "      <th>3</th>\n",
       "      <td>4</td>\n",
       "      <td>1</td>\n",
       "      <td>1</td>\n",
       "      <td>Futrelle, Mrs. Jacques Heath (Lily May Peel)</td>\n",
       "      <td>female</td>\n",
       "      <td>35.000</td>\n",
       "      <td>1</td>\n",
       "      <td>0</td>\n",
       "      <td>113803</td>\n",
       "      <td>53.100</td>\n",
       "      <td>C123</td>\n",
       "      <td>S</td>\n",
       "    </tr>\n",
       "    <tr>\n",
       "      <th>4</th>\n",
       "      <td>5</td>\n",
       "      <td>0</td>\n",
       "      <td>3</td>\n",
       "      <td>Allen, Mr. William Henry</td>\n",
       "      <td>male</td>\n",
       "      <td>35.000</td>\n",
       "      <td>0</td>\n",
       "      <td>0</td>\n",
       "      <td>373450</td>\n",
       "      <td>8.050</td>\n",
       "      <td>NaN</td>\n",
       "      <td>S</td>\n",
       "    </tr>\n",
       "  </tbody>\n",
       "</table>\n",
       "</div>"
      ],
      "text/plain": [
       "   PassengerId  Survived  Pclass  \\\n",
       "0            1         0       3   \n",
       "1            2         1       1   \n",
       "2            3         1       3   \n",
       "3            4         1       1   \n",
       "4            5         0       3   \n",
       "\n",
       "                                                  Name     Sex    Age  SibSp  \\\n",
       "0                              Braund, Mr. Owen Harris    male 22.000      1   \n",
       "1  Cumings, Mrs. John Bradley (Florence Briggs Thayer)  female 38.000      1   \n",
       "2                               Heikkinen, Miss. Laina  female 26.000      0   \n",
       "3         Futrelle, Mrs. Jacques Heath (Lily May Peel)  female 35.000      1   \n",
       "4                             Allen, Mr. William Henry    male 35.000      0   \n",
       "\n",
       "   Parch            Ticket   Fare Cabin Embarked  \n",
       "0      0         A/5 21171  7.250   NaN        S  \n",
       "1      0          PC 17599 71.283   C85        C  \n",
       "2      0  STON/O2. 3101282  7.925   NaN        S  \n",
       "3      0            113803 53.100  C123        S  \n",
       "4      0            373450  8.050   NaN        S  "
      ]
     },
     "metadata": {},
     "output_type": "display_data"
    }
   ],
   "source": [
    "df_train, df_test = laden_data()\n",
    "display(df_train.head())"
   ]
  },
  {
   "attachments": {},
   "cell_type": "markdown",
   "metadata": {},
   "source": [
    "Zoals je ziet is de dataset in het Engels en soms wat cryptisch weergegeven. Laten we dit vereenvoudigen. "
   ]
  },
  {
   "cell_type": "code",
   "execution_count": 3,
   "metadata": {},
   "outputs": [
    {
     "data": {
      "text/html": [
       "<div>\n",
       "<style scoped>\n",
       "    .dataframe tbody tr th:only-of-type {\n",
       "        vertical-align: middle;\n",
       "    }\n",
       "\n",
       "    .dataframe tbody tr th {\n",
       "        vertical-align: top;\n",
       "    }\n",
       "\n",
       "    .dataframe thead th {\n",
       "        text-align: right;\n",
       "    }\n",
       "</style>\n",
       "<table border=\"1\" class=\"dataframe\">\n",
       "  <thead>\n",
       "    <tr style=\"text-align: right;\">\n",
       "      <th></th>\n",
       "      <th>Passagier_Id</th>\n",
       "      <th>Naam</th>\n",
       "      <th>Geslacht</th>\n",
       "      <th>Leeftijd</th>\n",
       "      <th>Aantal_kinderen</th>\n",
       "      <th>Aantal_overige_familieleden</th>\n",
       "      <th>Totaal_aantal_familieleden</th>\n",
       "      <th>Opstapplaats</th>\n",
       "      <th>Ticket_nummer</th>\n",
       "      <th>Ticket_klasse</th>\n",
       "      <th>Ticket_prijs</th>\n",
       "      <th>Cabine_nummer</th>\n",
       "      <th>Overleefd</th>\n",
       "    </tr>\n",
       "  </thead>\n",
       "  <tbody>\n",
       "    <tr>\n",
       "      <th>0</th>\n",
       "      <td>1</td>\n",
       "      <td>Braund, Mr. Owen Harris</td>\n",
       "      <td>Man</td>\n",
       "      <td>22.000</td>\n",
       "      <td>0</td>\n",
       "      <td>1</td>\n",
       "      <td>1</td>\n",
       "      <td>Engeland</td>\n",
       "      <td>A/5 21171</td>\n",
       "      <td>3e klas</td>\n",
       "      <td>7.250</td>\n",
       "      <td>NaN</td>\n",
       "      <td>Nee</td>\n",
       "    </tr>\n",
       "    <tr>\n",
       "      <th>1</th>\n",
       "      <td>2</td>\n",
       "      <td>Cumings, Mrs. John Bradley (Florence Briggs Thayer)</td>\n",
       "      <td>Vrouw</td>\n",
       "      <td>38.000</td>\n",
       "      <td>0</td>\n",
       "      <td>1</td>\n",
       "      <td>1</td>\n",
       "      <td>Frankrijk</td>\n",
       "      <td>PC 17599</td>\n",
       "      <td>1e klas</td>\n",
       "      <td>71.283</td>\n",
       "      <td>C85</td>\n",
       "      <td>Ja</td>\n",
       "    </tr>\n",
       "    <tr>\n",
       "      <th>2</th>\n",
       "      <td>3</td>\n",
       "      <td>Heikkinen, Miss. Laina</td>\n",
       "      <td>Vrouw</td>\n",
       "      <td>26.000</td>\n",
       "      <td>0</td>\n",
       "      <td>0</td>\n",
       "      <td>0</td>\n",
       "      <td>Engeland</td>\n",
       "      <td>STON/O2. 3101282</td>\n",
       "      <td>3e klas</td>\n",
       "      <td>7.925</td>\n",
       "      <td>NaN</td>\n",
       "      <td>Ja</td>\n",
       "    </tr>\n",
       "    <tr>\n",
       "      <th>3</th>\n",
       "      <td>4</td>\n",
       "      <td>Futrelle, Mrs. Jacques Heath (Lily May Peel)</td>\n",
       "      <td>Vrouw</td>\n",
       "      <td>35.000</td>\n",
       "      <td>0</td>\n",
       "      <td>1</td>\n",
       "      <td>1</td>\n",
       "      <td>Engeland</td>\n",
       "      <td>113803</td>\n",
       "      <td>1e klas</td>\n",
       "      <td>53.100</td>\n",
       "      <td>C123</td>\n",
       "      <td>Ja</td>\n",
       "    </tr>\n",
       "    <tr>\n",
       "      <th>4</th>\n",
       "      <td>5</td>\n",
       "      <td>Allen, Mr. William Henry</td>\n",
       "      <td>Man</td>\n",
       "      <td>35.000</td>\n",
       "      <td>0</td>\n",
       "      <td>0</td>\n",
       "      <td>0</td>\n",
       "      <td>Engeland</td>\n",
       "      <td>373450</td>\n",
       "      <td>3e klas</td>\n",
       "      <td>8.050</td>\n",
       "      <td>NaN</td>\n",
       "      <td>Nee</td>\n",
       "    </tr>\n",
       "  </tbody>\n",
       "</table>\n",
       "</div>"
      ],
      "text/plain": [
       "   Passagier_Id                                                 Naam Geslacht  \\\n",
       "0             1                              Braund, Mr. Owen Harris      Man   \n",
       "1             2  Cumings, Mrs. John Bradley (Florence Briggs Thayer)    Vrouw   \n",
       "2             3                               Heikkinen, Miss. Laina    Vrouw   \n",
       "3             4         Futrelle, Mrs. Jacques Heath (Lily May Peel)    Vrouw   \n",
       "4             5                             Allen, Mr. William Henry      Man   \n",
       "\n",
       "   Leeftijd  Aantal_kinderen  Aantal_overige_familieleden  \\\n",
       "0    22.000                0                            1   \n",
       "1    38.000                0                            1   \n",
       "2    26.000                0                            0   \n",
       "3    35.000                0                            1   \n",
       "4    35.000                0                            0   \n",
       "\n",
       "   Totaal_aantal_familieleden Opstapplaats     Ticket_nummer Ticket_klasse  \\\n",
       "0                           1     Engeland         A/5 21171       3e klas   \n",
       "1                           1    Frankrijk          PC 17599       1e klas   \n",
       "2                           0     Engeland  STON/O2. 3101282       3e klas   \n",
       "3                           1     Engeland            113803       1e klas   \n",
       "4                           0     Engeland            373450       3e klas   \n",
       "\n",
       "   Ticket_prijs Cabine_nummer Overleefd  \n",
       "0         7.250           NaN       Nee  \n",
       "1        71.283           C85        Ja  \n",
       "2         7.925           NaN        Ja  \n",
       "3        53.100          C123        Ja  \n",
       "4         8.050           NaN       Nee  "
      ]
     },
     "metadata": {},
     "output_type": "display_data"
    }
   ],
   "source": [
    "df_train_clean, df_test_clean = vereenvoudigen_data(df_train, df_test)\n",
    "display(df_train_clean.head())"
   ]
  },
  {
   "attachments": {},
   "cell_type": "markdown",
   "metadata": {},
   "source": [
    "**Opgave 2.1.** Welke variabelen denken jullie dat belangrijk zijn?\n",
    "\n",
    "**Opgave 2.2.** Welke variabele is het doel?\n",
    "\n",
    "We kunnen naast de tabel ook een aantal (beknopte) verkennende analyses uitvoeren.  \n",
    "Druk op de onderstaande play knoppen om dit te doen."
   ]
  },
  {
   "cell_type": "code",
   "execution_count": 4,
   "metadata": {},
   "outputs": [
    {
     "name": "stdout",
     "output_type": "stream",
     "text": [
      "Er zitten 891 passagiers in de dataset, daarvan heeft 38.38% het overleefd.\n",
      "De gemiddelde leeftijd van de passagiers is 30.\n",
      " \n"
     ]
    },
    {
     "data": {
      "text/html": [
       "<div>\n",
       "<style scoped>\n",
       "    .dataframe tbody tr th:only-of-type {\n",
       "        vertical-align: middle;\n",
       "    }\n",
       "\n",
       "    .dataframe tbody tr th {\n",
       "        vertical-align: top;\n",
       "    }\n",
       "\n",
       "    .dataframe thead th {\n",
       "        text-align: right;\n",
       "    }\n",
       "</style>\n",
       "<table border=\"1\" class=\"dataframe\">\n",
       "  <thead>\n",
       "    <tr style=\"text-align: right;\">\n",
       "      <th></th>\n",
       "      <th>Missende waarden (%)</th>\n",
       "    </tr>\n",
       "  </thead>\n",
       "  <tbody>\n",
       "    <tr>\n",
       "      <th>Cabine_nummer</th>\n",
       "      <td>77.104</td>\n",
       "    </tr>\n",
       "    <tr>\n",
       "      <th>Leeftijd</th>\n",
       "      <td>19.865</td>\n",
       "    </tr>\n",
       "    <tr>\n",
       "      <th>Opstapplaats</th>\n",
       "      <td>0.224</td>\n",
       "    </tr>\n",
       "    <tr>\n",
       "      <th>Passagier_Id</th>\n",
       "      <td>0.000</td>\n",
       "    </tr>\n",
       "    <tr>\n",
       "      <th>Naam</th>\n",
       "      <td>0.000</td>\n",
       "    </tr>\n",
       "    <tr>\n",
       "      <th>Geslacht</th>\n",
       "      <td>0.000</td>\n",
       "    </tr>\n",
       "    <tr>\n",
       "      <th>Aantal_kinderen</th>\n",
       "      <td>0.000</td>\n",
       "    </tr>\n",
       "    <tr>\n",
       "      <th>Aantal_overige_familieleden</th>\n",
       "      <td>0.000</td>\n",
       "    </tr>\n",
       "    <tr>\n",
       "      <th>Totaal_aantal_familieleden</th>\n",
       "      <td>0.000</td>\n",
       "    </tr>\n",
       "    <tr>\n",
       "      <th>Ticket_nummer</th>\n",
       "      <td>0.000</td>\n",
       "    </tr>\n",
       "    <tr>\n",
       "      <th>Ticket_klasse</th>\n",
       "      <td>0.000</td>\n",
       "    </tr>\n",
       "    <tr>\n",
       "      <th>Ticket_prijs</th>\n",
       "      <td>0.000</td>\n",
       "    </tr>\n",
       "    <tr>\n",
       "      <th>Overleefd</th>\n",
       "      <td>0.000</td>\n",
       "    </tr>\n",
       "  </tbody>\n",
       "</table>\n",
       "</div>"
      ],
      "text/plain": [
       "                             Missende waarden (%)\n",
       "Cabine_nummer                              77.104\n",
       "Leeftijd                                   19.865\n",
       "Opstapplaats                                0.224\n",
       "Passagier_Id                                0.000\n",
       "Naam                                        0.000\n",
       "Geslacht                                    0.000\n",
       "Aantal_kinderen                             0.000\n",
       "Aantal_overige_familieleden                 0.000\n",
       "Totaal_aantal_familieleden                  0.000\n",
       "Ticket_nummer                               0.000\n",
       "Ticket_klasse                               0.000\n",
       "Ticket_prijs                                0.000\n",
       "Overleefd                                   0.000"
      ]
     },
     "metadata": {},
     "output_type": "display_data"
    },
    {
     "name": "stdout",
     "output_type": "stream",
     "text": [
      " \n"
     ]
    }
   ],
   "source": [
    "basis_feiten(df=df_train_clean)"
   ]
  },
  {
   "attachments": {},
   "cell_type": "markdown",
   "metadata": {},
   "source": [
    "**Opgave 2.3.** Welke kolommen hebben missende waarden?"
   ]
  },
  {
   "cell_type": "code",
   "execution_count": null,
   "metadata": {},
   "outputs": [],
   "source": [
    "visualisatie_ticketklasse(df=df_train_clean)"
   ]
  },
  {
   "attachments": {},
   "cell_type": "markdown",
   "metadata": {},
   "source": [
    "**Opgave 2.4.** In welke klasse hebben (in verhouding) de minste passagiers het overleefd?"
   ]
  },
  {
   "cell_type": "code",
   "execution_count": null,
   "metadata": {},
   "outputs": [],
   "source": [
    "visualisatie_leeftijd_geslacht(df=df_train_clean)"
   ]
  },
  {
   "attachments": {},
   "cell_type": "markdown",
   "metadata": {},
   "source": [
    "De 3D-grafiek is op verschillende manieren te bekijken:\n",
    "- Door te scrollen kun je in- en/of uitzoomen\n",
    "- Rechtermuisknop vasthouden en bewegen leidt tot het draaien van de grafiek\n",
    "- Je ziet extra informatie als je met de muis over een punt beweegt. \n",
    "\n",
    "**Opgave 2.5.** Wat valt je op aan deze (3D) grafiek?"
   ]
  },
  {
   "cell_type": "code",
   "execution_count": 5,
   "metadata": {},
   "outputs": [
    {
     "name": "stdout",
     "output_type": "stream",
     "text": [
      "Het percentage overleefde/overleden passagiers ten opzichte van het aantal familieleden.\n"
     ]
    },
    {
     "data": {
      "application/vnd.plotly.v1+json": {
       "config": {
        "plotlyServerURL": "https://plot.ly"
       },
       "data": [
        {
         "alignmentgroup": "True",
         "hovertemplate": "Overleefd=Ja<br>Totaal_aantal_familieleden=%{x}<br>Percentage=%{y}<extra></extra>",
         "legendgroup": "Ja",
         "marker": {
          "color": "#00A9A4",
          "pattern": {
           "shape": ""
          }
         },
         "name": "Ja",
         "offsetgroup": "Ja",
         "orientation": "v",
         "showlegend": true,
         "textposition": "auto",
         "type": "bar",
         "x": [
          0,
          1,
          2,
          3,
          4,
          5,
          6
         ],
         "xaxis": "x",
         "y": [
          30.353817504655495,
          55.27950310559007,
          57.84313725490197,
          72.41379310344827,
          20,
          13.636363636363635,
          33.33333333333333
         ],
         "yaxis": "y"
        },
        {
         "alignmentgroup": "True",
         "hovertemplate": "Overleefd=Nee<br>Totaal_aantal_familieleden=%{x}<br>Percentage=%{y}<extra></extra>",
         "legendgroup": "Nee",
         "marker": {
          "color": "#F2C80F",
          "pattern": {
           "shape": ""
          }
         },
         "name": "Nee",
         "offsetgroup": "Nee",
         "orientation": "v",
         "showlegend": true,
         "textposition": "auto",
         "type": "bar",
         "x": [
          0,
          1,
          2,
          3,
          4,
          5,
          6,
          7,
          10
         ],
         "xaxis": "x",
         "y": [
          69.6461824953445,
          44.72049689440994,
          42.15686274509804,
          27.586206896551722,
          80,
          86.36363636363636,
          66.66666666666666,
          100,
          100
         ],
         "yaxis": "y"
        }
       ],
       "layout": {
        "barmode": "relative",
        "legend": {
         "title": {
          "text": "Overleefd"
         },
         "tracegroupgap": 0
        },
        "margin": {
         "t": 60
        },
        "template": {
         "data": {
          "pie": [
           {
            "automargin": true,
            "type": "pie"
           }
          ],
          "scatter": [
           {
            "line": {
             "width": 3
            },
            "marker": {
             "size": 9
            },
            "type": "scatter"
           }
          ],
          "scatter3d": [
           {
            "line": {
             "width": 3
            },
            "marker": {
             "size": 9
            },
            "type": "scatter3d"
           }
          ],
          "scattergeo": [
           {
            "line": {
             "width": 3
            },
            "marker": {
             "size": 9
            },
            "type": "scattergeo"
           }
          ],
          "scattergl": [
           {
            "line": {
             "width": 3
            },
            "marker": {
             "size": 9
            },
            "type": "scattergl"
           }
          ],
          "scatterpolar": [
           {
            "line": {
             "width": 3
            },
            "marker": {
             "size": 9
            },
            "type": "scatterpolar"
           }
          ],
          "scatterpolargl": [
           {
            "line": {
             "width": 3
            },
            "marker": {
             "size": 9
            },
            "type": "scatterpolargl"
           }
          ],
          "scatterternary": [
           {
            "line": {
             "width": 3
            },
            "marker": {
             "size": 9
            },
            "type": "scatterternary"
           }
          ],
          "table": [
           {
            "cells": {
             "height": 30
            },
            "header": {
             "height": 36
            },
            "type": "table"
           }
          ]
         },
         "layout": {
          "font": {
           "size": 18
          },
          "xaxis": {
           "title": {
            "standoff": 15
           }
          },
          "yaxis": {
           "title": {
            "standoff": 15
           }
          }
         }
        },
        "width": 900,
        "xaxis": {
         "anchor": "y",
         "domain": [
          0,
          1
         ],
         "title": {
          "text": "Totaal_aantal_familieleden"
         }
        },
        "yaxis": {
         "anchor": "x",
         "domain": [
          0,
          1
         ],
         "title": {
          "text": "Percentage"
         }
        }
       }
      }
     },
     "metadata": {},
     "output_type": "display_data"
    }
   ],
   "source": [
    "visualisatie_familieleden(df=df_train_clean)"
   ]
  },
  {
   "attachments": {},
   "cell_type": "markdown",
   "metadata": {},
   "source": [
    "**Opgave 2.6.** Kijk naar het plaatje op de handout en omcirkel a, b of c. Welke distributie past het beste bij het percentage aantal familieleden dat overleefd heeft?\n",
    "\n",
    "### 3. Data preparation\n",
    "Laten we de dataset aanpassen zodat deze geschikt is voor een algoritme. In de cel hieronder kun je de oude én opgeschoonde dataset bekijken."
   ]
  },
  {
   "cell_type": "code",
   "execution_count": 8,
   "metadata": {},
   "outputs": [
    {
     "name": "stdout",
     "output_type": "stream",
     "text": [
      "Oude dataset:\n"
     ]
    },
    {
     "data": {
      "text/html": [
       "<div>\n",
       "<style scoped>\n",
       "    .dataframe tbody tr th:only-of-type {\n",
       "        vertical-align: middle;\n",
       "    }\n",
       "\n",
       "    .dataframe tbody tr th {\n",
       "        vertical-align: top;\n",
       "    }\n",
       "\n",
       "    .dataframe thead th {\n",
       "        text-align: right;\n",
       "    }\n",
       "</style>\n",
       "<table border=\"1\" class=\"dataframe\">\n",
       "  <thead>\n",
       "    <tr style=\"text-align: right;\">\n",
       "      <th></th>\n",
       "      <th>Passagier_Id</th>\n",
       "      <th>Naam</th>\n",
       "      <th>Geslacht</th>\n",
       "      <th>Leeftijd</th>\n",
       "      <th>Aantal_kinderen</th>\n",
       "      <th>Aantal_overige_familieleden</th>\n",
       "      <th>Totaal_aantal_familieleden</th>\n",
       "      <th>Opstapplaats</th>\n",
       "      <th>Ticket_nummer</th>\n",
       "      <th>Ticket_klasse</th>\n",
       "      <th>Ticket_prijs</th>\n",
       "      <th>Cabine_nummer</th>\n",
       "      <th>Overleefd</th>\n",
       "    </tr>\n",
       "  </thead>\n",
       "  <tbody>\n",
       "    <tr>\n",
       "      <th>0</th>\n",
       "      <td>1</td>\n",
       "      <td>Braund, Mr. Owen Harris</td>\n",
       "      <td>Man</td>\n",
       "      <td>22.000</td>\n",
       "      <td>0</td>\n",
       "      <td>1</td>\n",
       "      <td>1</td>\n",
       "      <td>Engeland</td>\n",
       "      <td>A/5 21171</td>\n",
       "      <td>3e klas</td>\n",
       "      <td>7.250</td>\n",
       "      <td>NaN</td>\n",
       "      <td>Nee</td>\n",
       "    </tr>\n",
       "    <tr>\n",
       "      <th>1</th>\n",
       "      <td>2</td>\n",
       "      <td>Cumings, Mrs. John Bradley (Florence Briggs Thayer)</td>\n",
       "      <td>Vrouw</td>\n",
       "      <td>38.000</td>\n",
       "      <td>0</td>\n",
       "      <td>1</td>\n",
       "      <td>1</td>\n",
       "      <td>Frankrijk</td>\n",
       "      <td>PC 17599</td>\n",
       "      <td>1e klas</td>\n",
       "      <td>71.283</td>\n",
       "      <td>C85</td>\n",
       "      <td>Ja</td>\n",
       "    </tr>\n",
       "    <tr>\n",
       "      <th>2</th>\n",
       "      <td>3</td>\n",
       "      <td>Heikkinen, Miss. Laina</td>\n",
       "      <td>Vrouw</td>\n",
       "      <td>26.000</td>\n",
       "      <td>0</td>\n",
       "      <td>0</td>\n",
       "      <td>0</td>\n",
       "      <td>Engeland</td>\n",
       "      <td>STON/O2. 3101282</td>\n",
       "      <td>3e klas</td>\n",
       "      <td>7.925</td>\n",
       "      <td>NaN</td>\n",
       "      <td>Ja</td>\n",
       "    </tr>\n",
       "    <tr>\n",
       "      <th>3</th>\n",
       "      <td>4</td>\n",
       "      <td>Futrelle, Mrs. Jacques Heath (Lily May Peel)</td>\n",
       "      <td>Vrouw</td>\n",
       "      <td>35.000</td>\n",
       "      <td>0</td>\n",
       "      <td>1</td>\n",
       "      <td>1</td>\n",
       "      <td>Engeland</td>\n",
       "      <td>113803</td>\n",
       "      <td>1e klas</td>\n",
       "      <td>53.100</td>\n",
       "      <td>C123</td>\n",
       "      <td>Ja</td>\n",
       "    </tr>\n",
       "    <tr>\n",
       "      <th>4</th>\n",
       "      <td>5</td>\n",
       "      <td>Allen, Mr. William Henry</td>\n",
       "      <td>Man</td>\n",
       "      <td>35.000</td>\n",
       "      <td>0</td>\n",
       "      <td>0</td>\n",
       "      <td>0</td>\n",
       "      <td>Engeland</td>\n",
       "      <td>373450</td>\n",
       "      <td>3e klas</td>\n",
       "      <td>8.050</td>\n",
       "      <td>NaN</td>\n",
       "      <td>Nee</td>\n",
       "    </tr>\n",
       "  </tbody>\n",
       "</table>\n",
       "</div>"
      ],
      "text/plain": [
       "   Passagier_Id                                                 Naam Geslacht  \\\n",
       "0             1                              Braund, Mr. Owen Harris      Man   \n",
       "1             2  Cumings, Mrs. John Bradley (Florence Briggs Thayer)    Vrouw   \n",
       "2             3                               Heikkinen, Miss. Laina    Vrouw   \n",
       "3             4         Futrelle, Mrs. Jacques Heath (Lily May Peel)    Vrouw   \n",
       "4             5                             Allen, Mr. William Henry      Man   \n",
       "\n",
       "   Leeftijd  Aantal_kinderen  Aantal_overige_familieleden  \\\n",
       "0    22.000                0                            1   \n",
       "1    38.000                0                            1   \n",
       "2    26.000                0                            0   \n",
       "3    35.000                0                            1   \n",
       "4    35.000                0                            0   \n",
       "\n",
       "   Totaal_aantal_familieleden Opstapplaats     Ticket_nummer Ticket_klasse  \\\n",
       "0                           1     Engeland         A/5 21171       3e klas   \n",
       "1                           1    Frankrijk          PC 17599       1e klas   \n",
       "2                           0     Engeland  STON/O2. 3101282       3e klas   \n",
       "3                           1     Engeland            113803       1e klas   \n",
       "4                           0     Engeland            373450       3e klas   \n",
       "\n",
       "   Ticket_prijs Cabine_nummer Overleefd  \n",
       "0         7.250           NaN       Nee  \n",
       "1        71.283           C85        Ja  \n",
       "2         7.925           NaN        Ja  \n",
       "3        53.100          C123        Ja  \n",
       "4         8.050           NaN       Nee  "
      ]
     },
     "metadata": {},
     "output_type": "display_data"
    },
    {
     "name": "stdout",
     "output_type": "stream",
     "text": [
      "Opgeschoonde dataset:\n"
     ]
    },
    {
     "data": {
      "text/html": [
       "<div>\n",
       "<style scoped>\n",
       "    .dataframe tbody tr th:only-of-type {\n",
       "        vertical-align: middle;\n",
       "    }\n",
       "\n",
       "    .dataframe tbody tr th {\n",
       "        vertical-align: top;\n",
       "    }\n",
       "\n",
       "    .dataframe thead th {\n",
       "        text-align: right;\n",
       "    }\n",
       "</style>\n",
       "<table border=\"1\" class=\"dataframe\">\n",
       "  <thead>\n",
       "    <tr style=\"text-align: right;\">\n",
       "      <th></th>\n",
       "      <th></th>\n",
       "      <th>Geslacht</th>\n",
       "      <th>Leeftijd</th>\n",
       "      <th>Aantal_kinderen</th>\n",
       "      <th>Aantal_overige_familieleden</th>\n",
       "      <th>Totaal_aantal_familieleden</th>\n",
       "      <th>Opstapplaats</th>\n",
       "      <th>Ticket_klasse</th>\n",
       "      <th>Ticket_prijs</th>\n",
       "      <th>Overleefd</th>\n",
       "    </tr>\n",
       "    <tr>\n",
       "      <th>Passagier_Id</th>\n",
       "      <th>Naam</th>\n",
       "      <th></th>\n",
       "      <th></th>\n",
       "      <th></th>\n",
       "      <th></th>\n",
       "      <th></th>\n",
       "      <th></th>\n",
       "      <th></th>\n",
       "      <th></th>\n",
       "      <th></th>\n",
       "    </tr>\n",
       "  </thead>\n",
       "  <tbody>\n",
       "    <tr>\n",
       "      <th>1</th>\n",
       "      <th>Braund, Mr. Owen Harris</th>\n",
       "      <td>0</td>\n",
       "      <td>22</td>\n",
       "      <td>0</td>\n",
       "      <td>1</td>\n",
       "      <td>1</td>\n",
       "      <td>0</td>\n",
       "      <td>3</td>\n",
       "      <td>7.250</td>\n",
       "      <td>0</td>\n",
       "    </tr>\n",
       "    <tr>\n",
       "      <th>2</th>\n",
       "      <th>Cumings, Mrs. John Bradley (Florence Briggs Thayer)</th>\n",
       "      <td>1</td>\n",
       "      <td>38</td>\n",
       "      <td>0</td>\n",
       "      <td>1</td>\n",
       "      <td>1</td>\n",
       "      <td>1</td>\n",
       "      <td>1</td>\n",
       "      <td>71.283</td>\n",
       "      <td>1</td>\n",
       "    </tr>\n",
       "    <tr>\n",
       "      <th>3</th>\n",
       "      <th>Heikkinen, Miss. Laina</th>\n",
       "      <td>1</td>\n",
       "      <td>26</td>\n",
       "      <td>0</td>\n",
       "      <td>0</td>\n",
       "      <td>0</td>\n",
       "      <td>0</td>\n",
       "      <td>3</td>\n",
       "      <td>7.925</td>\n",
       "      <td>1</td>\n",
       "    </tr>\n",
       "    <tr>\n",
       "      <th>4</th>\n",
       "      <th>Futrelle, Mrs. Jacques Heath (Lily May Peel)</th>\n",
       "      <td>1</td>\n",
       "      <td>35</td>\n",
       "      <td>0</td>\n",
       "      <td>1</td>\n",
       "      <td>1</td>\n",
       "      <td>0</td>\n",
       "      <td>1</td>\n",
       "      <td>53.100</td>\n",
       "      <td>1</td>\n",
       "    </tr>\n",
       "    <tr>\n",
       "      <th>5</th>\n",
       "      <th>Allen, Mr. William Henry</th>\n",
       "      <td>0</td>\n",
       "      <td>35</td>\n",
       "      <td>0</td>\n",
       "      <td>0</td>\n",
       "      <td>0</td>\n",
       "      <td>0</td>\n",
       "      <td>3</td>\n",
       "      <td>8.050</td>\n",
       "      <td>0</td>\n",
       "    </tr>\n",
       "  </tbody>\n",
       "</table>\n",
       "</div>"
      ],
      "text/plain": [
       "                                                                  Geslacht  \\\n",
       "Passagier_Id Naam                                                            \n",
       "1            Braund, Mr. Owen Harris                                     0   \n",
       "2            Cumings, Mrs. John Bradley (Florence Briggs Thayer)         1   \n",
       "3            Heikkinen, Miss. Laina                                      1   \n",
       "4            Futrelle, Mrs. Jacques Heath (Lily May Peel)                1   \n",
       "5            Allen, Mr. William Henry                                    0   \n",
       "\n",
       "                                                                  Leeftijd  \\\n",
       "Passagier_Id Naam                                                            \n",
       "1            Braund, Mr. Owen Harris                                    22   \n",
       "2            Cumings, Mrs. John Bradley (Florence Briggs Thayer)        38   \n",
       "3            Heikkinen, Miss. Laina                                     26   \n",
       "4            Futrelle, Mrs. Jacques Heath (Lily May Peel)               35   \n",
       "5            Allen, Mr. William Henry                                   35   \n",
       "\n",
       "                                                                  Aantal_kinderen  \\\n",
       "Passagier_Id Naam                                                                   \n",
       "1            Braund, Mr. Owen Harris                                            0   \n",
       "2            Cumings, Mrs. John Bradley (Florence Briggs Thayer)                0   \n",
       "3            Heikkinen, Miss. Laina                                             0   \n",
       "4            Futrelle, Mrs. Jacques Heath (Lily May Peel)                       0   \n",
       "5            Allen, Mr. William Henry                                           0   \n",
       "\n",
       "                                                                  Aantal_overige_familieleden  \\\n",
       "Passagier_Id Naam                                                                               \n",
       "1            Braund, Mr. Owen Harris                                                        1   \n",
       "2            Cumings, Mrs. John Bradley (Florence Briggs Thayer)                            1   \n",
       "3            Heikkinen, Miss. Laina                                                         0   \n",
       "4            Futrelle, Mrs. Jacques Heath (Lily May Peel)                                   1   \n",
       "5            Allen, Mr. William Henry                                                       0   \n",
       "\n",
       "                                                                  Totaal_aantal_familieleden  \\\n",
       "Passagier_Id Naam                                                                              \n",
       "1            Braund, Mr. Owen Harris                                                       1   \n",
       "2            Cumings, Mrs. John Bradley (Florence Briggs Thayer)                           1   \n",
       "3            Heikkinen, Miss. Laina                                                        0   \n",
       "4            Futrelle, Mrs. Jacques Heath (Lily May Peel)                                  1   \n",
       "5            Allen, Mr. William Henry                                                      0   \n",
       "\n",
       "                                                                  Opstapplaats  \\\n",
       "Passagier_Id Naam                                                                \n",
       "1            Braund, Mr. Owen Harris                                         0   \n",
       "2            Cumings, Mrs. John Bradley (Florence Briggs Thayer)             1   \n",
       "3            Heikkinen, Miss. Laina                                          0   \n",
       "4            Futrelle, Mrs. Jacques Heath (Lily May Peel)                    0   \n",
       "5            Allen, Mr. William Henry                                        0   \n",
       "\n",
       "                                                                  Ticket_klasse  \\\n",
       "Passagier_Id Naam                                                                 \n",
       "1            Braund, Mr. Owen Harris                                          3   \n",
       "2            Cumings, Mrs. John Bradley (Florence Briggs Thayer)              1   \n",
       "3            Heikkinen, Miss. Laina                                           3   \n",
       "4            Futrelle, Mrs. Jacques Heath (Lily May Peel)                     1   \n",
       "5            Allen, Mr. William Henry                                         3   \n",
       "\n",
       "                                                                  Ticket_prijs  \\\n",
       "Passagier_Id Naam                                                                \n",
       "1            Braund, Mr. Owen Harris                                     7.250   \n",
       "2            Cumings, Mrs. John Bradley (Florence Briggs Thayer)        71.283   \n",
       "3            Heikkinen, Miss. Laina                                      7.925   \n",
       "4            Futrelle, Mrs. Jacques Heath (Lily May Peel)               53.100   \n",
       "5            Allen, Mr. William Henry                                    8.050   \n",
       "\n",
       "                                                                  Overleefd  \n",
       "Passagier_Id Naam                                                            \n",
       "1            Braund, Mr. Owen Harris                                      0  \n",
       "2            Cumings, Mrs. John Bradley (Florence Briggs Thayer)          1  \n",
       "3            Heikkinen, Miss. Laina                                       1  \n",
       "4            Futrelle, Mrs. Jacques Heath (Lily May Peel)                 1  \n",
       "5            Allen, Mr. William Henry                                     0  "
      ]
     },
     "metadata": {},
     "output_type": "display_data"
    }
   ],
   "source": [
    "df_train_num, df_test_num = aanpassen_data(df_train_clean, df_test_clean)\n",
    "print(\"Oude dataset:\") \n",
    "display(df_train_clean.head())\n",
    "print(\"Opgeschoonde dataset:\")\n",
    "display( df_train_num.head())"
   ]
  },
  {
   "attachments": {},
   "cell_type": "markdown",
   "metadata": {},
   "source": [
    "**Opgave 3.1.** Wat valt je op aan de opgeschoonde dataset? \n",
    "\n",
    "\n",
    "\n",
    "<span font-size=2.5em; style=\"color:red\"><font size=\"5\"><strong>Plenair bespreken en toelichting vervolg</strong></span>\n",
    "\n",
    "<span font-size=2.5em;> Dus... </font></span><span font-size=2.5em; style=\"color:red\"><font size=\"5\"><strong>STOP </strong></span><span font-size=2.5em;> met verder klikken anders mis je de boot...</font></span>\n",
    "\n",
    "\n",
    "\n",
    "    \n"
   ]
  },
  {
   "attachments": {},
   "cell_type": "markdown",
   "metadata": {},
   "source": [
    "**Opgave 3.2.** Voeg jezelf toe aan de dataset via onderstaande cel."
   ]
  },
  {
   "cell_type": "code",
   "execution_count": 9,
   "metadata": {},
   "outputs": [
    {
     "name": "stdout",
     "output_type": "stream",
     "text": [
      "Wat is je naam?\n",
      "Een leeg antwoord is niet bruikbaar.\n",
      "Een leeg antwoord is niet bruikbaar.\n",
      "Je hebt ingevuld: Luuk \n",
      "\n",
      "Wat is je geslacht (man, vrouw)?\n",
      "Je hebt ingevuld: Man \n",
      "\n",
      "Wat is je leeftijd?\n",
      "Je hebt ingevuld: 20 \n",
      "\n",
      "Hoeveel kinderen neem je mee op reis?\n",
      "Je hebt ingevuld: 0 \n",
      "\n",
      "Hoeveel andere familieleden gaan mee op reis?\n",
      "Je hebt ingevuld: 0 \n",
      "\n",
      "In welk land ben je aan boord gegaan (Engeland, Frankrijk, Ierland)?\n",
      "Je hebt ingevuld: Engeland \n",
      "\n",
      "Geef aan welke optie je voorkeur geniet voor de overige variabelen (a, b, c):\n",
      "    a. 1e klasse ticket (prijs 749.99)\n",
      "    b. 2e klasse ticket (prijs 99.99)\n",
      "    c. 3e klasse ticket (prijs 7.50)\n",
      "\n",
      "Je hebt ingevuld: A \n",
      "\n",
      "Wil je nog een passagier toevoegen (ja,nee)?\n",
      "Je hebt ingevuld: Nee \n",
      "\n"
     ]
    },
    {
     "data": {
      "text/html": [
       "<div>\n",
       "<style scoped>\n",
       "    .dataframe tbody tr th:only-of-type {\n",
       "        vertical-align: middle;\n",
       "    }\n",
       "\n",
       "    .dataframe tbody tr th {\n",
       "        vertical-align: top;\n",
       "    }\n",
       "\n",
       "    .dataframe thead th {\n",
       "        text-align: right;\n",
       "    }\n",
       "</style>\n",
       "<table border=\"1\" class=\"dataframe\">\n",
       "  <thead>\n",
       "    <tr style=\"text-align: right;\">\n",
       "      <th></th>\n",
       "      <th></th>\n",
       "      <th>Geslacht</th>\n",
       "      <th>Leeftijd</th>\n",
       "      <th>Aantal_kinderen</th>\n",
       "      <th>Aantal_overige_familieleden</th>\n",
       "      <th>Totaal_aantal_familieleden</th>\n",
       "      <th>Opstapplaats</th>\n",
       "      <th>Ticket_klasse</th>\n",
       "      <th>Ticket_prijs</th>\n",
       "    </tr>\n",
       "    <tr>\n",
       "      <th>Passagier_Id</th>\n",
       "      <th>Naam</th>\n",
       "      <th></th>\n",
       "      <th></th>\n",
       "      <th></th>\n",
       "      <th></th>\n",
       "      <th></th>\n",
       "      <th></th>\n",
       "      <th></th>\n",
       "      <th></th>\n",
       "    </tr>\n",
       "  </thead>\n",
       "  <tbody>\n",
       "    <tr>\n",
       "      <th>1306</th>\n",
       "      <th>Oliva y Ocana, Dona. Fermina</th>\n",
       "      <td>1</td>\n",
       "      <td>39</td>\n",
       "      <td>0</td>\n",
       "      <td>0</td>\n",
       "      <td>0</td>\n",
       "      <td>1</td>\n",
       "      <td>1</td>\n",
       "      <td>108.900</td>\n",
       "    </tr>\n",
       "    <tr>\n",
       "      <th>1307</th>\n",
       "      <th>Saether, Mr. Simon Sivertsen</th>\n",
       "      <td>0</td>\n",
       "      <td>38</td>\n",
       "      <td>0</td>\n",
       "      <td>0</td>\n",
       "      <td>0</td>\n",
       "      <td>0</td>\n",
       "      <td>3</td>\n",
       "      <td>7.250</td>\n",
       "    </tr>\n",
       "    <tr>\n",
       "      <th>1308</th>\n",
       "      <th>Ware, Mr. Frederick</th>\n",
       "      <td>0</td>\n",
       "      <td>30</td>\n",
       "      <td>0</td>\n",
       "      <td>0</td>\n",
       "      <td>0</td>\n",
       "      <td>0</td>\n",
       "      <td>3</td>\n",
       "      <td>8.050</td>\n",
       "    </tr>\n",
       "    <tr>\n",
       "      <th>1309</th>\n",
       "      <th>Peter, Master. Michael J</th>\n",
       "      <td>0</td>\n",
       "      <td>30</td>\n",
       "      <td>1</td>\n",
       "      <td>1</td>\n",
       "      <td>2</td>\n",
       "      <td>1</td>\n",
       "      <td>3</td>\n",
       "      <td>22.358</td>\n",
       "    </tr>\n",
       "    <tr>\n",
       "      <th>10000</th>\n",
       "      <th>Luuk</th>\n",
       "      <td>0</td>\n",
       "      <td>20</td>\n",
       "      <td>0</td>\n",
       "      <td>0</td>\n",
       "      <td>0</td>\n",
       "      <td>0</td>\n",
       "      <td>1</td>\n",
       "      <td>749.990</td>\n",
       "    </tr>\n",
       "  </tbody>\n",
       "</table>\n",
       "</div>"
      ],
      "text/plain": [
       "                                           Geslacht  Leeftijd  \\\n",
       "Passagier_Id Naam                                               \n",
       "1306         Oliva y Ocana, Dona. Fermina         1        39   \n",
       "1307         Saether, Mr. Simon Sivertsen         0        38   \n",
       "1308         Ware, Mr. Frederick                  0        30   \n",
       "1309         Peter, Master. Michael J             0        30   \n",
       "10000        Luuk                                 0        20   \n",
       "\n",
       "                                           Aantal_kinderen  \\\n",
       "Passagier_Id Naam                                            \n",
       "1306         Oliva y Ocana, Dona. Fermina                0   \n",
       "1307         Saether, Mr. Simon Sivertsen                0   \n",
       "1308         Ware, Mr. Frederick                         0   \n",
       "1309         Peter, Master. Michael J                    1   \n",
       "10000        Luuk                                        0   \n",
       "\n",
       "                                           Aantal_overige_familieleden  \\\n",
       "Passagier_Id Naam                                                        \n",
       "1306         Oliva y Ocana, Dona. Fermina                            0   \n",
       "1307         Saether, Mr. Simon Sivertsen                            0   \n",
       "1308         Ware, Mr. Frederick                                     0   \n",
       "1309         Peter, Master. Michael J                                1   \n",
       "10000        Luuk                                                    0   \n",
       "\n",
       "                                           Totaal_aantal_familieleden  \\\n",
       "Passagier_Id Naam                                                       \n",
       "1306         Oliva y Ocana, Dona. Fermina                           0   \n",
       "1307         Saether, Mr. Simon Sivertsen                           0   \n",
       "1308         Ware, Mr. Frederick                                    0   \n",
       "1309         Peter, Master. Michael J                               2   \n",
       "10000        Luuk                                                   0   \n",
       "\n",
       "                                           Opstapplaats  Ticket_klasse  \\\n",
       "Passagier_Id Naam                                                        \n",
       "1306         Oliva y Ocana, Dona. Fermina             1              1   \n",
       "1307         Saether, Mr. Simon Sivertsen             0              3   \n",
       "1308         Ware, Mr. Frederick                      0              3   \n",
       "1309         Peter, Master. Michael J                 1              3   \n",
       "10000        Luuk                                     0              1   \n",
       "\n",
       "                                           Ticket_prijs  \n",
       "Passagier_Id Naam                                        \n",
       "1306         Oliva y Ocana, Dona. Fermina       108.900  \n",
       "1307         Saether, Mr. Simon Sivertsen         7.250  \n",
       "1308         Ware, Mr. Frederick                  8.050  \n",
       "1309         Peter, Master. Michael J            22.358  \n",
       "10000        Luuk                               749.990  "
      ]
     },
     "metadata": {},
     "output_type": "display_data"
    }
   ],
   "source": [
    "df_train_extended, df_test_extended = voeg_passagiers_toe(df_train_num, df_test_num)\n",
    "display(df_test_extended.tail())"
   ]
  },
  {
   "attachments": {},
   "cell_type": "markdown",
   "metadata": {},
   "source": [
    "### 4. Modeling\n",
    "Voer het onderstaande experiment uit met een veranderende parameter 'buren' (van 1 t/m 10).  \n",
    "Kijk wat een verandering in het aantal buren met de nauwkeurigheidsscore doet."
   ]
  },
  {
   "cell_type": "code",
   "execution_count": 10,
   "metadata": {},
   "outputs": [
    {
     "data": {
      "text/html": [
       "<div>\n",
       "<style scoped>\n",
       "    .dataframe tbody tr th:only-of-type {\n",
       "        vertical-align: middle;\n",
       "    }\n",
       "\n",
       "    .dataframe tbody tr th {\n",
       "        vertical-align: top;\n",
       "    }\n",
       "\n",
       "    .dataframe thead th {\n",
       "        text-align: right;\n",
       "    }\n",
       "</style>\n",
       "<table border=\"1\" class=\"dataframe\">\n",
       "  <thead>\n",
       "    <tr style=\"text-align: right;\">\n",
       "      <th></th>\n",
       "      <th>Aantal_buren</th>\n",
       "      <th>Nauwkeurigheidsscore</th>\n",
       "    </tr>\n",
       "  </thead>\n",
       "  <tbody>\n",
       "    <tr>\n",
       "      <th>1</th>\n",
       "      <td>1</td>\n",
       "      <td>0.713</td>\n",
       "    </tr>\n",
       "    <tr>\n",
       "      <th>2</th>\n",
       "      <td>2</td>\n",
       "      <td>0.669</td>\n",
       "    </tr>\n",
       "    <tr>\n",
       "      <th>3</th>\n",
       "      <td>3</td>\n",
       "      <td>0.742</td>\n",
       "    </tr>\n",
       "    <tr>\n",
       "      <th>4</th>\n",
       "      <td>4</td>\n",
       "      <td>0.697</td>\n",
       "    </tr>\n",
       "    <tr>\n",
       "      <th>5</th>\n",
       "      <td>5</td>\n",
       "      <td>0.713</td>\n",
       "    </tr>\n",
       "    <tr>\n",
       "      <th>6</th>\n",
       "      <td>6</td>\n",
       "      <td>0.691</td>\n",
       "    </tr>\n",
       "    <tr>\n",
       "      <th>7</th>\n",
       "      <td>7</td>\n",
       "      <td>0.702</td>\n",
       "    </tr>\n",
       "    <tr>\n",
       "      <th>8</th>\n",
       "      <td>8</td>\n",
       "      <td>0.702</td>\n",
       "    </tr>\n",
       "    <tr>\n",
       "      <th>9</th>\n",
       "      <td>9</td>\n",
       "      <td>0.719</td>\n",
       "    </tr>\n",
       "    <tr>\n",
       "      <th>10</th>\n",
       "      <td>10</td>\n",
       "      <td>0.697</td>\n",
       "    </tr>\n",
       "  </tbody>\n",
       "</table>\n",
       "</div>"
      ],
      "text/plain": [
       "   Aantal_buren  Nauwkeurigheidsscore\n",
       "1             1                 0.713\n",
       "2             2                 0.669\n",
       "3             3                 0.742\n",
       "4             4                 0.697\n",
       "5             5                 0.713\n",
       "6             6                 0.691\n",
       "7             7                 0.702\n",
       "8             8                 0.702\n",
       "9             9                 0.719\n",
       "10           10                 0.697"
      ]
     },
     "metadata": {},
     "output_type": "display_data"
    }
   ],
   "source": [
    "df_experiment = experimenteer_met_aantal_buren(df=df_train_extended, ondergrens=1, bovengrens=10)\n",
    "display(df_experiment)"
   ]
  },
  {
   "attachments": {},
   "cell_type": "markdown",
   "metadata": {},
   "source": [
    "**Opgave 4.1.** Vraag voor gevorderde(n): Waarom zou een ‘even’ aantal buren niet aan te raden zijn?\n",
    "\n",
    "### 5. Evaluation\n",
    "Laten we hieronder bij de passagiers voorspellen of ze het overleefd hebben, waaronder ons zelf! "
   ]
  },
  {
   "cell_type": "code",
   "execution_count": 11,
   "metadata": {},
   "outputs": [
    {
     "data": {
      "text/html": [
       "<div>\n",
       "<style scoped>\n",
       "    .dataframe tbody tr th:only-of-type {\n",
       "        vertical-align: middle;\n",
       "    }\n",
       "\n",
       "    .dataframe tbody tr th {\n",
       "        vertical-align: top;\n",
       "    }\n",
       "\n",
       "    .dataframe thead th {\n",
       "        text-align: right;\n",
       "    }\n",
       "</style>\n",
       "<table border=\"1\" class=\"dataframe\">\n",
       "  <thead>\n",
       "    <tr style=\"text-align: right;\">\n",
       "      <th></th>\n",
       "      <th></th>\n",
       "      <th>Geslacht</th>\n",
       "      <th>Leeftijd</th>\n",
       "      <th>Aantal_kinderen</th>\n",
       "      <th>Aantal_overige_familieleden</th>\n",
       "      <th>Totaal_aantal_familieleden</th>\n",
       "      <th>Opstapplaats</th>\n",
       "      <th>Ticket_klasse</th>\n",
       "      <th>Ticket_prijs</th>\n",
       "      <th>Overleefd</th>\n",
       "    </tr>\n",
       "    <tr>\n",
       "      <th>Passagier_Id</th>\n",
       "      <th>Naam</th>\n",
       "      <th></th>\n",
       "      <th></th>\n",
       "      <th></th>\n",
       "      <th></th>\n",
       "      <th></th>\n",
       "      <th></th>\n",
       "      <th></th>\n",
       "      <th></th>\n",
       "      <th></th>\n",
       "    </tr>\n",
       "  </thead>\n",
       "  <tbody>\n",
       "    <tr>\n",
       "      <th>1306</th>\n",
       "      <th>Oliva y Ocana, Dona. Fermina</th>\n",
       "      <td>1</td>\n",
       "      <td>39</td>\n",
       "      <td>0</td>\n",
       "      <td>0</td>\n",
       "      <td>0</td>\n",
       "      <td>1</td>\n",
       "      <td>1</td>\n",
       "      <td>108.900</td>\n",
       "      <td>1.000</td>\n",
       "    </tr>\n",
       "    <tr>\n",
       "      <th>1307</th>\n",
       "      <th>Saether, Mr. Simon Sivertsen</th>\n",
       "      <td>0</td>\n",
       "      <td>38</td>\n",
       "      <td>0</td>\n",
       "      <td>0</td>\n",
       "      <td>0</td>\n",
       "      <td>0</td>\n",
       "      <td>3</td>\n",
       "      <td>7.250</td>\n",
       "      <td>0.000</td>\n",
       "    </tr>\n",
       "    <tr>\n",
       "      <th>1308</th>\n",
       "      <th>Ware, Mr. Frederick</th>\n",
       "      <td>0</td>\n",
       "      <td>30</td>\n",
       "      <td>0</td>\n",
       "      <td>0</td>\n",
       "      <td>0</td>\n",
       "      <td>0</td>\n",
       "      <td>3</td>\n",
       "      <td>8.050</td>\n",
       "      <td>0.000</td>\n",
       "    </tr>\n",
       "    <tr>\n",
       "      <th>1309</th>\n",
       "      <th>Peter, Master. Michael J</th>\n",
       "      <td>0</td>\n",
       "      <td>30</td>\n",
       "      <td>1</td>\n",
       "      <td>1</td>\n",
       "      <td>2</td>\n",
       "      <td>1</td>\n",
       "      <td>3</td>\n",
       "      <td>22.358</td>\n",
       "      <td>1.000</td>\n",
       "    </tr>\n",
       "    <tr>\n",
       "      <th>10000</th>\n",
       "      <th>Luuk</th>\n",
       "      <td>0</td>\n",
       "      <td>20</td>\n",
       "      <td>0</td>\n",
       "      <td>0</td>\n",
       "      <td>0</td>\n",
       "      <td>0</td>\n",
       "      <td>1</td>\n",
       "      <td>749.990</td>\n",
       "      <td>1.000</td>\n",
       "    </tr>\n",
       "  </tbody>\n",
       "</table>\n",
       "</div>"
      ],
      "text/plain": [
       "                                           Geslacht  Leeftijd  \\\n",
       "Passagier_Id Naam                                               \n",
       "1306         Oliva y Ocana, Dona. Fermina         1        39   \n",
       "1307         Saether, Mr. Simon Sivertsen         0        38   \n",
       "1308         Ware, Mr. Frederick                  0        30   \n",
       "1309         Peter, Master. Michael J             0        30   \n",
       "10000        Luuk                                 0        20   \n",
       "\n",
       "                                           Aantal_kinderen  \\\n",
       "Passagier_Id Naam                                            \n",
       "1306         Oliva y Ocana, Dona. Fermina                0   \n",
       "1307         Saether, Mr. Simon Sivertsen                0   \n",
       "1308         Ware, Mr. Frederick                         0   \n",
       "1309         Peter, Master. Michael J                    1   \n",
       "10000        Luuk                                        0   \n",
       "\n",
       "                                           Aantal_overige_familieleden  \\\n",
       "Passagier_Id Naam                                                        \n",
       "1306         Oliva y Ocana, Dona. Fermina                            0   \n",
       "1307         Saether, Mr. Simon Sivertsen                            0   \n",
       "1308         Ware, Mr. Frederick                                     0   \n",
       "1309         Peter, Master. Michael J                                1   \n",
       "10000        Luuk                                                    0   \n",
       "\n",
       "                                           Totaal_aantal_familieleden  \\\n",
       "Passagier_Id Naam                                                       \n",
       "1306         Oliva y Ocana, Dona. Fermina                           0   \n",
       "1307         Saether, Mr. Simon Sivertsen                           0   \n",
       "1308         Ware, Mr. Frederick                                    0   \n",
       "1309         Peter, Master. Michael J                               2   \n",
       "10000        Luuk                                                   0   \n",
       "\n",
       "                                           Opstapplaats  Ticket_klasse  \\\n",
       "Passagier_Id Naam                                                        \n",
       "1306         Oliva y Ocana, Dona. Fermina             1              1   \n",
       "1307         Saether, Mr. Simon Sivertsen             0              3   \n",
       "1308         Ware, Mr. Frederick                      0              3   \n",
       "1309         Peter, Master. Michael J                 1              3   \n",
       "10000        Luuk                                     0              1   \n",
       "\n",
       "                                           Ticket_prijs  Overleefd  \n",
       "Passagier_Id Naam                                                   \n",
       "1306         Oliva y Ocana, Dona. Fermina       108.900      1.000  \n",
       "1307         Saether, Mr. Simon Sivertsen         7.250      0.000  \n",
       "1308         Ware, Mr. Frederick                  8.050      0.000  \n",
       "1309         Peter, Master. Michael J            22.358      1.000  \n",
       "10000        Luuk                               749.990      1.000  "
      ]
     },
     "metadata": {},
     "output_type": "display_data"
    }
   ],
   "source": [
    "df_voorspelling = voorspelling_genereren(X=df_test_extended)\n",
    "display(df_voorspelling.tail())"
   ]
  },
  {
   "attachments": {},
   "cell_type": "markdown",
   "metadata": {},
   "source": [
    "Mocht er in de kolom 'Overleefd' een '1' staan, dan heb je het overleefd! Mocht er een '0' staan, dan is het resultaat wellicht teleurstellend.   \n",
    "Maar wees gerust, er zijn een aantal variabelen doorslaggevend en bij een goed doorlopen CRISP-DM proces heb je deze in beeld en kun je (vroegtijdig) ingrijpen.  \n",
    "\n",
    "In onderstaande visualisatie kun je zien welke variabelen doorgeslaggevend waren. "
   ]
  },
  {
   "cell_type": "code",
   "execution_count": 12,
   "metadata": {},
   "outputs": [
    {
     "name": "stdout",
     "output_type": "stream",
     "text": [
      "De variabelen welke de meeste invloed uitoefenen op het resultaat zijn:\n"
     ]
    },
    {
     "data": {
      "application/vnd.plotly.v1+json": {
       "config": {
        "plotlyServerURL": "https://plot.ly"
       },
       "data": [
        {
         "alignmentgroup": "True",
         "hovertemplate": "Feature_importance=%{x}<br>index=%{y}<extra></extra>",
         "legendgroup": "",
         "marker": {
          "color": "#00A9A4",
          "pattern": {
           "shape": ""
          }
         },
         "name": "",
         "offsetgroup": "",
         "orientation": "h",
         "showlegend": false,
         "textposition": "auto",
         "type": "bar",
         "x": [
          0.3540186871450032,
          0.18396565096260636,
          0.18120302542959002,
          0.10730295560598545,
          0.07766459808494947,
          0.04303589660922782,
          0.033347414043898564,
          0.0194617721187392
         ],
         "xaxis": "x",
         "y": [
          "Geslacht",
          "Ticket_klasse",
          "Ticket_prijs",
          "Totaal_aantal_familieleden",
          "Leeftijd",
          "Aantal_overige_familieleden",
          "Opstapplaats",
          "Aantal_kinderen"
         ],
         "yaxis": "y"
        }
       ],
       "layout": {
        "barmode": "relative",
        "legend": {
         "tracegroupgap": 0
        },
        "margin": {
         "b": 100,
         "l": 300,
         "r": 100,
         "t": 100
        },
        "template": {
         "data": {
          "pie": [
           {
            "automargin": true,
            "type": "pie"
           }
          ],
          "scatter": [
           {
            "line": {
             "width": 3
            },
            "marker": {
             "size": 9
            },
            "type": "scatter"
           }
          ],
          "scatter3d": [
           {
            "line": {
             "width": 3
            },
            "marker": {
             "size": 9
            },
            "type": "scatter3d"
           }
          ],
          "scattergeo": [
           {
            "line": {
             "width": 3
            },
            "marker": {
             "size": 9
            },
            "type": "scattergeo"
           }
          ],
          "scattergl": [
           {
            "line": {
             "width": 3
            },
            "marker": {
             "size": 9
            },
            "type": "scattergl"
           }
          ],
          "scatterpolar": [
           {
            "line": {
             "width": 3
            },
            "marker": {
             "size": 9
            },
            "type": "scatterpolar"
           }
          ],
          "scatterpolargl": [
           {
            "line": {
             "width": 3
            },
            "marker": {
             "size": 9
            },
            "type": "scatterpolargl"
           }
          ],
          "scatterternary": [
           {
            "line": {
             "width": 3
            },
            "marker": {
             "size": 9
            },
            "type": "scatterternary"
           }
          ],
          "table": [
           {
            "cells": {
             "height": 30
            },
            "header": {
             "height": 36
            },
            "type": "table"
           }
          ]
         },
         "layout": {
          "font": {
           "size": 18
          },
          "xaxis": {
           "title": {
            "standoff": 15
           }
          },
          "yaxis": {
           "title": {
            "standoff": 15
           }
          }
         }
        },
        "width": 900,
        "xaxis": {
         "anchor": "y",
         "domain": [
          0,
          1
         ],
         "title": {
          "text": "Feature_importance"
         }
        },
        "yaxis": {
         "anchor": "x",
         "categoryorder": "total ascending",
         "domain": [
          0,
          1
         ],
         "showticklabels": true,
         "title": {
          "text": ""
         },
         "visible": true
        }
       }
      }
     },
     "metadata": {},
     "output_type": "display_data"
    }
   ],
   "source": [
    "geef_belangrijkste_variabelen(df_train_num)"
   ]
  },
  {
   "attachments": {},
   "cell_type": "markdown",
   "metadata": {},
   "source": [
    "**Opgave 5.1.** In welke mate komt de inschatting bij opgave 2.1 overeen met de visualisatie van variabelen die de meeste invloed uitoefenen?\n",
    "\n",
    "### 6. Deployment\n",
    "Deployment gaat te ver voor de introductie in Data Science. Tijd voor de wrap up. "
   ]
  }
 ],
 "metadata": {
  "kernelspec": {
   "display_name": "dsa_playground",
   "language": "python",
   "name": "python3"
  },
  "language_info": {
   "codemirror_mode": {
    "name": "ipython",
    "version": 3
   },
   "file_extension": ".py",
   "mimetype": "text/x-python",
   "name": "python",
   "nbconvert_exporter": "python",
   "pygments_lexer": "ipython3",
   "version": "3.8.16"
  },
  "orig_nbformat": 4
 },
 "nbformat": 4,
 "nbformat_minor": 2
}
