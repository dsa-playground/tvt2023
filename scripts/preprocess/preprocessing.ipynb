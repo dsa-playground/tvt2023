{
 "cells": [
  {
   "attachments": {},
   "cell_type": "markdown",
   "metadata": {},
   "source": [
    "## Imports"
   ]
  },
  {
   "cell_type": "code",
   "execution_count": null,
   "metadata": {},
   "outputs": [],
   "source": [
    "import pandas as pd\n",
    "import numpy as np"
   ]
  },
  {
   "attachments": {},
   "cell_type": "markdown",
   "metadata": {},
   "source": [
    "## Settings and parameters"
   ]
  },
  {
   "cell_type": "code",
   "execution_count": null,
   "metadata": {},
   "outputs": [],
   "source": [
    "# settings for pandas\n",
    "pd.set_option(\"display.max.columns\",None) # alle kolommen tonen\n",
    "pd.set_option(\"display.max.rows\",500)    # eerste 500 rijen tonen\n",
    "pd.set_option(\"display.precision\", 2)     # precisie van de kolommen aanpassen\n",
    "pd.set_option('display.float_format', lambda x: '{:.3f}'.format(x)) # floats output tot 3 decimalen\n",
    "pd.set_option('display.max_colwidth', None)\n",
    "\n",
    "# settings for extra passengers\n",
    "\n",
    "add_extra_passengers = True"
   ]
  },
  {
   "attachments": {},
   "cell_type": "markdown",
   "metadata": {},
   "source": [
    "## Load data\n"
   ]
  },
  {
   "cell_type": "code",
   "execution_count": null,
   "metadata": {},
   "outputs": [],
   "source": [
    "datapath = '../data/'\n",
    "filename = 'train.csv' \n",
    "df = pd.read_csv(datapath + filename)"
   ]
  },
  {
   "attachments": {},
   "cell_type": "markdown",
   "metadata": {},
   "source": [
    "### VARIABLE DESCRIPTIONS  \n",
    "Pclass Passenger Class (1 = 1st; 2 = 2nd; 3 = 3rd)   \n",
    "survival Survival (0 = No; 1 = Yes)  \n",
    "name Name   \n",
    "sex Sex  \n",
    "age Age  \n",
    "sibsp Number of Siblings/Spouses Aboard  \n",
    "parch Number of Parents/Children Aboard  \n",
    "ticket Ticket Number  \n",
    "fare Passenger Fare (British pound)  \n",
    "cabin Cabin  \n",
    "embarked Port of Embarkation (C = Cherbourg; Q = Queenstown; S = Southampton)  \n",
    "boat Lifeboat  \n",
    "body Body Identification Number  \n",
    "home.dest Home/Destination  "
   ]
  },
  {
   "attachments": {},
   "cell_type": "markdown",
   "metadata": {},
   "source": [
    "### SPECIAL NOTES\n",
    "Port of Embarkation (C = Cherbourg; Q = Queenstown; S = Southampton)  \n",
    "Pclass is a proxy for socio-economic status (SES)  \n",
    "1st ~ Upper; 2nd ~ Middle; 3rd ~ Lower  \n",
    "Age is in Years; Fractional if Age less than One (1)  \n",
    "If the Age is estimated, it is in the form xx.5  \n",
    "Fare is in Pre-1970 British Pounds ()  \n",
    "Conversion Factors: 1 = 12s = 240d and 1s = 20d    \n",
    "#### With respect to the family relation variables (i.e. sibsp and parch) some relations were ignored. The following are the definitions used for sibsp and parch.\n",
    "Sibling: Brother, Sister, Stepbrother, or Stepsister of Passenger Aboard Titanic  \n",
    "Spouse: Husband or Wife of Passenger Aboard Titanic (Mistresses and Fiances Ignored)  \n",
    "Parent: Mother or Father of Passenger Aboard Titanic  \n",
    "Child: Son, Daughter, Stepson, or Stepdaughter of Passenger Aboard Titanic  \n",
    "Other family relatives excluded from this study include cousins, nephews/nieces,  \n",
    "aunts/uncles, and in-laws. Some children travelled only with a nanny, therefore parch=0  \n",
    "for them. As well, some travelled with very close friends or neighbors in a village,  \n",
    "however, the definitions do not support such relations.  "
   ]
  },
  {
   "cell_type": "code",
   "execution_count": null,
   "metadata": {},
   "outputs": [],
   "source": [
    "rename_dict = {\n",
    "\"PassengerId\": \"Passagier_Id\",\n",
    "\"Survived\": \"Overleefd\",\n",
    "\"Pclass\": \"Ticket_klasse\",\n",
    "\"Name\": \"Naam\",\n",
    "\"Sex\": \"Geslacht\",\n",
    "\"Age\": \"Leeftijd\",\n",
    "\"SibSp\": \"Aantal_overige_familieleden\",\n",
    "\"Parch\": \"Aantal_kinderen\",\n",
    "\"Ticket\": \"Ticket_nummer\",\n",
    "\"Fare\": \"Ticket_prijs\",\n",
    "\"Cabin\": \"Cabine_nummer\",\n",
    "\"Embarked\": \"Opstapplaats\"\n",
    "}"
   ]
  },
  {
   "cell_type": "code",
   "execution_count": null,
   "metadata": {},
   "outputs": [],
   "source": [
    "df = df.rename(columns=rename_dict)\n",
    "\n",
    "df = df[['Passagier_Id',\n",
    " 'Naam',\n",
    " 'Geslacht',\n",
    " 'Leeftijd',\n",
    " 'Opstapplaats',\n",
    " 'Aantal_kinderen',\n",
    " 'Aantal_overige_familieleden',\n",
    " 'Ticket_nummer',\n",
    " 'Ticket_klasse',\n",
    " 'Ticket_prijs',\n",
    " 'Cabine_nummer',\n",
    " 'Overleefd']]\n",
    "\n",
    "df['Workshop_passagier'] = 0"
   ]
  },
  {
   "cell_type": "code",
   "execution_count": null,
   "metadata": {},
   "outputs": [],
   "source": [
    "df.info() #kolommen waar nog iets mee moet: leeftijd, opstapplaats & cabine nummer"
   ]
  },
  {
   "cell_type": "code",
   "execution_count": null,
   "metadata": {},
   "outputs": [],
   "source": [
    "df.tail(3)"
   ]
  },
  {
   "cell_type": "code",
   "execution_count": null,
   "metadata": {},
   "outputs": [],
   "source": [
    "Naam_1 = \"Maikel Jonkers (Kapitein)\" # string\n",
    "Geslacht_1 = \"Man\" #Man/vrouw\n",
    "Leeftijd_1 = 40 # int ?\n",
    "Opstapplaats_1 = \"Southampton\" # Southampton(Engeland), Queenstown(Ierland),  Cherbourg (Frankrijk)\n",
    "Aantal_kinderen_1 = 2 # int\n",
    "Aantal_overige_familieleden_1 = 3 # int\n",
    "Ticket_klasse_1 = 1 #1,2,3\n",
    "Ticket_prijs_1 = 100 # int"
   ]
  },
  {
   "cell_type": "code",
   "execution_count": null,
   "metadata": {},
   "outputs": [],
   "source": [
    "Naam_2 = \"Luuk Jans (Matroos)\" # string\n",
    "Geslacht_2 = \"Man\" #Man/vrouw\n",
    "Leeftijd_2 = 30 # int ?\n",
    "Opstapplaats_2 = \"Southampton\" # Southampton(Engeland), Queenstown(Ierland),  Cherbourg (Frankrijk)\n",
    "Aantal_kinderen_2 = 0 # int\n",
    "Aantal_overige_familieleden_2 = 4 # int\n",
    "Ticket_klasse_2 = 2 #1,2,3\n",
    "Ticket_prijs_2 = 300 # int"
   ]
  },
  {
   "cell_type": "code",
   "execution_count": null,
   "metadata": {},
   "outputs": [],
   "source": [
    "def voeg_passagier_toe(passagier_nummer):\n",
    "    if add_extra_passengers == True:\n",
    "        nieuwe_index = int(df.tail(1).index.item()) + 1\n",
    "        passagier_nummer = str(passagier_nummer)\n",
    "        df.loc[nieuwe_index] = [\n",
    "                    int(nieuwe_index) + 1, \n",
    "                    eval(\"Naam_\"+passagier_nummer), \n",
    "                    eval(\"Geslacht_\"+passagier_nummer),\n",
    "                    eval(\"Leeftijd_\"+passagier_nummer),\n",
    "                    eval(\"Opstapplaats_\"+passagier_nummer),\n",
    "                    eval(\"Aantal_kinderen_\"+passagier_nummer),\n",
    "                    eval(\"Aantal_overige_familieleden_\"+passagier_nummer),\n",
    "                    \"NaN\",  #Ticket_nummer\n",
    "                    eval(\"Ticket_klasse_\"+passagier_nummer),\n",
    "                    eval(\"Ticket_prijs_\"+passagier_nummer),\n",
    "                    \"NaN\",  #Cabine_nummer\n",
    "                    \"0\",    #Overleefd\n",
    "                    1       #Workshop_passagier\n",
    "                    ]\n",
    "        print(eval(\"Naam_\"+passagier_nummer) + \" is toegevoegd aan de passagiers lijst.\")"
   ]
  },
  {
   "cell_type": "code",
   "execution_count": null,
   "metadata": {},
   "outputs": [],
   "source": [
    "# als deze cel 2x gedraaid wordt dan worden de personen nog een keer toegevoegd. iets inbouwen zodat het niet kan (zoals index vastzetten?)?\n",
    "voeg_passagier_toe(1)\n",
    "voeg_passagier_toe(2)"
   ]
  },
  {
   "cell_type": "code",
   "execution_count": null,
   "metadata": {},
   "outputs": [],
   "source": [
    "df.tail(3)"
   ]
  },
  {
   "cell_type": "code",
   "execution_count": null,
   "metadata": {},
   "outputs": [],
   "source": [
    "def df_replace_column_values(df,column,old_value,new_value):\n",
    "    df.loc[df[column] == old_value, column] = new_value"
   ]
  },
  {
   "cell_type": "code",
   "execution_count": null,
   "metadata": {},
   "outputs": [],
   "source": [
    "df_replace_column_values(df=df,column=\"Opstapplaats\",old_value=\"C\",new_value=\"Cherbourg\")\n",
    "df_replace_column_values(df=df,column=\"Opstapplaats\",old_value=\"Q\",new_value=\"Queenstown\")\n",
    "df_replace_column_values(df=df,column=\"Opstapplaats\",old_value=\"S\",new_value=\"Southampton\")\n",
    "\n",
    "df_replace_column_values(df=df,column=\"Geslacht\",old_value=\"male\",new_value=\"Man\")\n",
    "df_replace_column_values(df=df,column=\"Geslacht\",old_value=\"female\",new_value=\"Vrouw\")"
   ]
  },
  {
   "cell_type": "code",
   "execution_count": null,
   "metadata": {},
   "outputs": [],
   "source": [
    "df"
   ]
  },
  {
   "cell_type": "code",
   "execution_count": null,
   "metadata": {},
   "outputs": [],
   "source": [
    "print(df[\"Leeftijd\"].unique())  \n",
    "print(df[\"Geslacht\"].unique())\n",
    "print(df[\"Opstapplaats\"].unique())\n",
    "print(df[\"Aantal_kinderen\"].unique())\n",
    "print(df[\"Aantal_overige_familieleden\"].unique())\n",
    "print(df[\"Ticket_klasse\"].unique())"
   ]
  },
  {
   "attachments": {},
   "cell_type": "markdown",
   "metadata": {},
   "source": [
    " ![Alt text](../images/southampton.jpg) \n",
    " ![Alt text](../images/queenstown.jpg)\n",
    " ![Alt text](../images/southampton.jpg)"
   ]
  }
 ],
 "metadata": {
  "kernelspec": {
   "display_name": "dsa_playground",
   "language": "python",
   "name": "python3"
  },
  "language_info": {
   "codemirror_mode": {
    "name": "ipython",
    "version": 3
   },
   "file_extension": ".py",
   "mimetype": "text/x-python",
   "name": "python",
   "nbconvert_exporter": "python",
   "pygments_lexer": "ipython3",
   "version": "3.8.16"
  },
  "orig_nbformat": 4
 },
 "nbformat": 4,
 "nbformat_minor": 2
}
