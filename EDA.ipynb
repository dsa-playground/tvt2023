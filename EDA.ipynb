{
 "cells": [
  {
   "cell_type": "code",
   "execution_count": null,
   "metadata": {},
   "outputs": [],
   "source": [
    "# TO DO Maikel: niet doen voor EDA\n",
    "# Niet vullen NAN bij leeftijd \n",
    "# Geen index aanmaken voor EDA\n",
    "\n",
    "# TO DO Maikel: wel doen voor EDA\n",
    "# extra kolom (totaal aantal familieleden): drop bij numeriek maken"
   ]
  },
  {
   "cell_type": "code",
   "execution_count": null,
   "metadata": {},
   "outputs": [],
   "source": [
    "# TODO:\n",
    "\n",
    "# toevoegen 3d visualisatie inclusief man/vrouw\n",
    "\n",
    "#create_scatter_plot(df=df_train_clean,x=\"Passagier_Id\",y=\"Leeftijd\",color=\"Overleefd\",color_discrete_map=color_discrete_map,category_orders=category_orders)\n",
    "\n",
    "# toevoegen correlatie heatmap\n",
    "\n",
    "# df_corr = df_train_clean.corr()\n",
    "# df_corr.info()\n",
    "# px.imshow(df_corr)"
   ]
  },
  {
   "cell_type": "code",
   "execution_count": null,
   "metadata": {},
   "outputs": [],
   "source": [
    "# extra stap, kan straks uit hele notebook\n",
    "\n",
    "from scripts.preprocess.preprocess_frontend import laden_data, opschonen_data, zie_settings\n",
    "import pandas as pd\n",
    "df_train,df_test = laden_data()\n",
    "df_train_clean, df_test_clean = opschonen_data(df_train, df_test)\n",
    "df_train_clean = df_train_clean.reset_index()"
   ]
  },
  {
   "cell_type": "code",
   "execution_count": null,
   "metadata": {},
   "outputs": [],
   "source": [
    "from scripts.EDA.eda import basis_feiten, EDA_visualisaties"
   ]
  },
  {
   "cell_type": "code",
   "execution_count": null,
   "metadata": {},
   "outputs": [],
   "source": [
    "display(df_train_clean.head())\n",
    "basis_feiten(df=df_train_clean)\n",
    "EDA_visualisaties(df=df_train_clean)"
   ]
  }
 ],
 "metadata": {
  "kernelspec": {
   "display_name": "dsa_playground",
   "language": "python",
   "name": "python3"
  },
  "language_info": {
   "codemirror_mode": {
    "name": "ipython",
    "version": 3
   },
   "file_extension": ".py",
   "mimetype": "text/x-python",
   "name": "python",
   "nbconvert_exporter": "python",
   "pygments_lexer": "ipython3",
   "version": "3.8.16"
  },
  "orig_nbformat": 4
 },
 "nbformat": 4,
 "nbformat_minor": 2
}
