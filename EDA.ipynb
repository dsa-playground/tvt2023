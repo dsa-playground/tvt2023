{
 "cells": [
  {
   "cell_type": "code",
   "execution_count": null,
   "metadata": {},
   "outputs": [],
   "source": [
    "# TO DO Maikel: niet doen voor EDA\n",
    "# Niet vullen NAN bij leeftijd \n",
    "# Geen index aanmaken voor EDA\n",
    "\n",
    "# TO DO Maikel: wel doen voor EDA\n",
    "# extra kolom (totaal aantal familieleden): drop bij numeriek maken"
   ]
  },
  {
   "cell_type": "code",
   "execution_count": null,
   "metadata": {},
   "outputs": [],
   "source": [
    "# TODO:\n",
    "\n",
    "# toevoegen 3d visualisatie inclusief man/vrouw\n",
    "\n",
    "#create_scatter_plot(df=df_train_clean,x=\"Passagier_Id\",y=\"Leeftijd\",color=\"Overleefd\",color_discrete_map=color_discrete_map,category_orders=category_orders)\n"
   ]
  },
  {
   "cell_type": "code",
   "execution_count": 1,
   "metadata": {},
   "outputs": [],
   "source": [
    "# extra stap, kan straks uit hele notebook\n",
    "\n",
    "from scripts.preprocess.preprocess_frontend import laden_data, opschonen_data, zie_settings\n",
    "import pandas as pd\n",
    "import plotly.express as px\n",
    "df_train,df_test = laden_data()\n",
    "df_train_clean, df_test_clean = opschonen_data(df_train, df_test)\n",
    "df_train_clean = df_train_clean.reset_index()"
   ]
  },
  {
   "cell_type": "code",
   "execution_count": 2,
   "metadata": {},
   "outputs": [],
   "source": [
    "from scripts.EDA.eda import basis_feiten, EDA_visualisaties, correlatie_heatmap"
   ]
  },
  {
   "cell_type": "code",
   "execution_count": 3,
   "metadata": {},
   "outputs": [
    {
     "data": {
      "text/html": [
       "<div>\n",
       "<style scoped>\n",
       "    .dataframe tbody tr th:only-of-type {\n",
       "        vertical-align: middle;\n",
       "    }\n",
       "\n",
       "    .dataframe tbody tr th {\n",
       "        vertical-align: top;\n",
       "    }\n",
       "\n",
       "    .dataframe thead th {\n",
       "        text-align: right;\n",
       "    }\n",
       "</style>\n",
       "<table border=\"1\" class=\"dataframe\">\n",
       "  <thead>\n",
       "    <tr style=\"text-align: right;\">\n",
       "      <th></th>\n",
       "      <th>Passagier_Id</th>\n",
       "      <th>Naam</th>\n",
       "      <th>Geslacht</th>\n",
       "      <th>Leeftijd</th>\n",
       "      <th>Opstapplaats</th>\n",
       "      <th>Aantal_kinderen</th>\n",
       "      <th>Aantal_overige_familieleden</th>\n",
       "      <th>Ticket_klasse</th>\n",
       "      <th>Ticket_prijs</th>\n",
       "      <th>Overleefd</th>\n",
       "    </tr>\n",
       "  </thead>\n",
       "  <tbody>\n",
       "    <tr>\n",
       "      <th>0</th>\n",
       "      <td>1</td>\n",
       "      <td>Braund, Mr. Owen Harris</td>\n",
       "      <td>Man</td>\n",
       "      <td>22</td>\n",
       "      <td>Engeland</td>\n",
       "      <td>0</td>\n",
       "      <td>1</td>\n",
       "      <td>Derde klas</td>\n",
       "      <td>7.2500</td>\n",
       "      <td>Nee</td>\n",
       "    </tr>\n",
       "    <tr>\n",
       "      <th>1</th>\n",
       "      <td>2</td>\n",
       "      <td>Cumings, Mrs. John Bradley (Florence Briggs Th...</td>\n",
       "      <td>Vrouw</td>\n",
       "      <td>38</td>\n",
       "      <td>Frankrijk</td>\n",
       "      <td>0</td>\n",
       "      <td>1</td>\n",
       "      <td>Eerste klas</td>\n",
       "      <td>71.2833</td>\n",
       "      <td>Ja</td>\n",
       "    </tr>\n",
       "    <tr>\n",
       "      <th>2</th>\n",
       "      <td>3</td>\n",
       "      <td>Heikkinen, Miss. Laina</td>\n",
       "      <td>Vrouw</td>\n",
       "      <td>26</td>\n",
       "      <td>Engeland</td>\n",
       "      <td>0</td>\n",
       "      <td>0</td>\n",
       "      <td>Derde klas</td>\n",
       "      <td>7.9250</td>\n",
       "      <td>Ja</td>\n",
       "    </tr>\n",
       "    <tr>\n",
       "      <th>3</th>\n",
       "      <td>4</td>\n",
       "      <td>Futrelle, Mrs. Jacques Heath (Lily May Peel)</td>\n",
       "      <td>Vrouw</td>\n",
       "      <td>35</td>\n",
       "      <td>Engeland</td>\n",
       "      <td>0</td>\n",
       "      <td>1</td>\n",
       "      <td>Eerste klas</td>\n",
       "      <td>53.1000</td>\n",
       "      <td>Ja</td>\n",
       "    </tr>\n",
       "    <tr>\n",
       "      <th>4</th>\n",
       "      <td>5</td>\n",
       "      <td>Allen, Mr. William Henry</td>\n",
       "      <td>Man</td>\n",
       "      <td>35</td>\n",
       "      <td>Engeland</td>\n",
       "      <td>0</td>\n",
       "      <td>0</td>\n",
       "      <td>Derde klas</td>\n",
       "      <td>8.0500</td>\n",
       "      <td>Nee</td>\n",
       "    </tr>\n",
       "  </tbody>\n",
       "</table>\n",
       "</div>"
      ],
      "text/plain": [
       "   Passagier_Id                                               Naam Geslacht  \\\n",
       "0             1                            Braund, Mr. Owen Harris      Man   \n",
       "1             2  Cumings, Mrs. John Bradley (Florence Briggs Th...    Vrouw   \n",
       "2             3                             Heikkinen, Miss. Laina    Vrouw   \n",
       "3             4       Futrelle, Mrs. Jacques Heath (Lily May Peel)    Vrouw   \n",
       "4             5                           Allen, Mr. William Henry      Man   \n",
       "\n",
       "   Leeftijd Opstapplaats  Aantal_kinderen  Aantal_overige_familieleden  \\\n",
       "0        22     Engeland                0                            1   \n",
       "1        38    Frankrijk                0                            1   \n",
       "2        26     Engeland                0                            0   \n",
       "3        35     Engeland                0                            1   \n",
       "4        35     Engeland                0                            0   \n",
       "\n",
       "  Ticket_klasse  Ticket_prijs Overleefd  \n",
       "0    Derde klas        7.2500       Nee  \n",
       "1   Eerste klas       71.2833        Ja  \n",
       "2    Derde klas        7.9250        Ja  \n",
       "3   Eerste klas       53.1000        Ja  \n",
       "4    Derde klas        8.0500       Nee  "
      ]
     },
     "metadata": {},
     "output_type": "display_data"
    },
    {
     "name": "stdout",
     "output_type": "stream",
     "text": [
      "Er zitten 889 passagiers in de dataset, daarvan heeft 38.25% het overleefd.\n",
      "De gemiddelde leeftijd van de passagiers is 29.\n",
      "De meeste passagiers zijn opgestapt in Engeland.\n"
     ]
    },
    {
     "data": {
      "application/vnd.plotly.v1+json": {
       "config": {
        "plotlyServerURL": "https://plot.ly"
       },
       "data": [
        {
         "hovertemplate": "Overleefd=Ja<br>Passagier_Id=%{x}<br>Leeftijd=%{y}<extra></extra>",
         "legendgroup": "Ja",
         "marker": {
          "color": "#00A9A4",
          "symbol": "circle"
         },
         "mode": "markers",
         "name": "Ja",
         "orientation": "v",
         "showlegend": true,
         "type": "scatter",
         "x": [
          2,
          3,
          4,
          9,
          10,
          11,
          12,
          16,
          18,
          20,
          22,
          23,
          24,
          26,
          29,
          32,
          33,
          37,
          40,
          44,
          45,
          48,
          53,
          54,
          56,
          57,
          59,
          66,
          67,
          69,
          75,
          79,
          80,
          82,
          83,
          85,
          86,
          89,
          98,
          99,
          107,
          108,
          110,
          124,
          126,
          128,
          129,
          134,
          137,
          142,
          143,
          147,
          152,
          157,
          162,
          166,
          167,
          173,
          184,
          185,
          187,
          188,
          191,
          193,
          194,
          195,
          196,
          199,
          205,
          208,
          209,
          210,
          212,
          216,
          217,
          219,
          221,
          225,
          227,
          231,
          234,
          238,
          242,
          248,
          249,
          256,
          257,
          258,
          259,
          260,
          262,
          268,
          269,
          270,
          272,
          273,
          275,
          276,
          280,
          284,
          287,
          289,
          290,
          291,
          292,
          299,
          300,
          301,
          302,
          304,
          306,
          307,
          308,
          310,
          311,
          312,
          316,
          317,
          319,
          320,
          323,
          324,
          326,
          328,
          329,
          330,
          331,
          335,
          338,
          339,
          341,
          342,
          346,
          347,
          348,
          349,
          357,
          359,
          360,
          367,
          368,
          369,
          370,
          371,
          376,
          377,
          381,
          382,
          384,
          388,
          390,
          391,
          392,
          394,
          395,
          400,
          401,
          408,
          413,
          415,
          417,
          418,
          427,
          428,
          430,
          431,
          432,
          433,
          436,
          438,
          441,
          444,
          445,
          446,
          447,
          448,
          449,
          450,
          454,
          456,
          458,
          459,
          461,
          470,
          473,
          474,
          480,
          484,
          485,
          487,
          490,
          497,
          505,
          507,
          508,
          510,
          511,
          513,
          514,
          517,
          519,
          521,
          524,
          527,
          531,
          534,
          536,
          538,
          540,
          541,
          544,
          547,
          548,
          550,
          551,
          554,
          555,
          557,
          559,
          560,
          570,
          571,
          572,
          573,
          574,
          577,
          578,
          580,
          581,
          582,
          586,
          588,
          592,
          597,
          600,
          601,
          605,
          608,
          609,
          610,
          613,
          616,
          619,
          622,
          623,
          628,
          631,
          633,
          636,
          642,
          644,
          645,
          646,
          648,
          650,
          652,
          654,
          661,
          665,
          670,
          671,
          674,
          678,
          680,
          682,
          690,
          691,
          692,
          693,
          698,
          701,
          702,
          707,
          708,
          709,
          710,
          711,
          713,
          717,
          718,
          721,
          725,
          727,
          728,
          731,
          738,
          741,
          743,
          745,
          748,
          751,
          752,
          755,
          756,
          760,
          763,
          764,
          766,
          775,
          778,
          780,
          781,
          782,
          787,
          789,
          797,
          798,
          802,
          803,
          804,
          805,
          810,
          821,
          822,
          824,
          828,
          829,
          831,
          832,
          836,
          839,
          840,
          843,
          850,
          854,
          856,
          857,
          858,
          859,
          863,
          866,
          867,
          870,
          872,
          875,
          876,
          880,
          881,
          888,
          890
         ],
         "xaxis": "x",
         "y": [
          38,
          26,
          35,
          27,
          14,
          4,
          58,
          55,
          29,
          29,
          34,
          15,
          28,
          38,
          29,
          29,
          29,
          29,
          14,
          3,
          19,
          29,
          49,
          29,
          29,
          21,
          5,
          29,
          29,
          17,
          32,
          0,
          30,
          29,
          29,
          17,
          33,
          23,
          23,
          34,
          21,
          29,
          29,
          32,
          12,
          24,
          29,
          29,
          19,
          22,
          24,
          27,
          22,
          16,
          40,
          9,
          29,
          1,
          1,
          4,
          29,
          45,
          32,
          19,
          3,
          44,
          58,
          29,
          18,
          26,
          16,
          40,
          35,
          31,
          27,
          32,
          16,
          38,
          19,
          35,
          5,
          8,
          29,
          24,
          37,
          29,
          29,
          30,
          35,
          50,
          3,
          25,
          58,
          35,
          25,
          41,
          29,
          63,
          35,
          19,
          30,
          42,
          22,
          26,
          19,
          29,
          50,
          29,
          29,
          29,
          0,
          29,
          17,
          30,
          24,
          18,
          26,
          24,
          31,
          40,
          30,
          22,
          36,
          36,
          31,
          16,
          29,
          29,
          41,
          45,
          2,
          24,
          24,
          40,
          29,
          3,
          22,
          29,
          29,
          60,
          29,
          29,
          24,
          25,
          29,
          22,
          42,
          1,
          35,
          36,
          17,
          36,
          21,
          23,
          24,
          28,
          39,
          3,
          33,
          44,
          34,
          18,
          28,
          19,
          32,
          28,
          29,
          42,
          14,
          24,
          45,
          28,
          29,
          4,
          13,
          34,
          5,
          52,
          49,
          29,
          29,
          50,
          48,
          0,
          33,
          23,
          2,
          63,
          25,
          35,
          9,
          54,
          16,
          33,
          29,
          26,
          29,
          36,
          54,
          34,
          36,
          30,
          44,
          50,
          2,
          29,
          7,
          30,
          22,
          36,
          32,
          19,
          29,
          8,
          17,
          22,
          22,
          48,
          39,
          36,
          32,
          62,
          53,
          36,
          29,
          34,
          39,
          32,
          25,
          39,
          18,
          60,
          52,
          29,
          49,
          24,
          35,
          27,
          22,
          40,
          29,
          24,
          4,
          42,
          20,
          21,
          80,
          32,
          28,
          24,
          29,
          0,
          48,
          56,
          23,
          18,
          29,
          50,
          20,
          29,
          40,
          31,
          18,
          36,
          27,
          15,
          31,
          4,
          29,
          29,
          18,
          35,
          45,
          42,
          22,
          29,
          24,
          48,
          38,
          27,
          6,
          27,
          30,
          29,
          29,
          35,
          29,
          21,
          31,
          30,
          4,
          6,
          48,
          0,
          33,
          20,
          36,
          51,
          54,
          5,
          43,
          13,
          17,
          18,
          1,
          49,
          31,
          31,
          11,
          0,
          27,
          33,
          52,
          27,
          27,
          1,
          29,
          15,
          0,
          39,
          32,
          29,
          30,
          29,
          16,
          18,
          45,
          51,
          24,
          48,
          42,
          27,
          4,
          47,
          28,
          15,
          56,
          25,
          19,
          26
         ],
         "yaxis": "y"
        },
        {
         "hovertemplate": "Overleefd=Nee<br>Passagier_Id=%{x}<br>Leeftijd=%{y}<extra></extra>",
         "legendgroup": "Nee",
         "marker": {
          "color": "#F2C80F",
          "symbol": "circle"
         },
         "mode": "markers",
         "name": "Nee",
         "orientation": "v",
         "showlegend": true,
         "type": "scatter",
         "x": [
          1,
          5,
          6,
          7,
          8,
          13,
          14,
          15,
          17,
          19,
          21,
          25,
          27,
          28,
          30,
          31,
          34,
          35,
          36,
          38,
          39,
          41,
          42,
          43,
          46,
          47,
          49,
          50,
          51,
          52,
          55,
          58,
          60,
          61,
          63,
          64,
          65,
          68,
          70,
          71,
          72,
          73,
          74,
          76,
          77,
          78,
          81,
          84,
          87,
          88,
          90,
          91,
          92,
          93,
          94,
          95,
          96,
          97,
          100,
          101,
          102,
          103,
          104,
          105,
          106,
          109,
          111,
          112,
          113,
          114,
          115,
          116,
          117,
          118,
          119,
          120,
          121,
          122,
          123,
          125,
          127,
          130,
          131,
          132,
          133,
          135,
          136,
          138,
          139,
          140,
          141,
          144,
          145,
          146,
          148,
          149,
          150,
          151,
          153,
          154,
          155,
          156,
          158,
          159,
          160,
          161,
          163,
          164,
          165,
          168,
          169,
          170,
          171,
          172,
          174,
          175,
          176,
          177,
          178,
          179,
          180,
          181,
          182,
          183,
          186,
          189,
          190,
          192,
          197,
          198,
          200,
          201,
          202,
          203,
          204,
          206,
          207,
          211,
          213,
          214,
          215,
          218,
          220,
          222,
          223,
          224,
          226,
          228,
          229,
          230,
          232,
          233,
          235,
          236,
          237,
          239,
          240,
          241,
          243,
          244,
          245,
          246,
          247,
          250,
          251,
          252,
          253,
          254,
          255,
          261,
          263,
          264,
          265,
          266,
          267,
          271,
          274,
          277,
          278,
          279,
          281,
          282,
          283,
          285,
          286,
          288,
          293,
          294,
          295,
          296,
          297,
          298,
          303,
          305,
          309,
          313,
          314,
          315,
          318,
          321,
          322,
          325,
          327,
          332,
          333,
          334,
          336,
          337,
          340,
          343,
          344,
          345,
          350,
          351,
          352,
          353,
          354,
          355,
          356,
          358,
          361,
          362,
          363,
          364,
          365,
          366,
          372,
          373,
          374,
          375,
          378,
          379,
          380,
          383,
          385,
          386,
          387,
          389,
          393,
          396,
          397,
          398,
          399,
          402,
          403,
          404,
          405,
          406,
          407,
          409,
          410,
          411,
          412,
          414,
          416,
          419,
          420,
          421,
          422,
          423,
          424,
          425,
          426,
          429,
          434,
          435,
          437,
          439,
          440,
          442,
          443,
          451,
          452,
          453,
          455,
          457,
          460,
          462,
          463,
          464,
          465,
          466,
          467,
          468,
          469,
          471,
          472,
          475,
          476,
          477,
          478,
          479,
          481,
          482,
          483,
          486,
          488,
          489,
          491,
          492,
          493,
          494,
          495,
          496,
          498,
          499,
          500,
          501,
          502,
          503,
          504,
          506,
          509,
          512,
          515,
          516,
          518,
          520,
          522,
          523,
          525,
          526,
          528,
          529,
          530,
          532,
          533,
          535,
          537,
          539,
          542,
          543,
          545,
          546,
          549,
          552,
          553,
          556,
          558,
          561,
          562,
          563,
          564,
          565,
          566,
          567,
          568,
          569,
          575,
          576,
          579,
          583,
          584,
          585,
          587,
          589,
          590,
          591,
          593,
          594,
          595,
          596,
          598,
          599,
          602,
          603,
          604,
          606,
          607,
          611,
          612,
          614,
          615,
          617,
          618,
          620,
          621,
          624,
          625,
          626,
          627,
          629,
          630,
          632,
          634,
          635,
          637,
          638,
          639,
          640,
          641,
          643,
          647,
          649,
          651,
          653,
          655,
          656,
          657,
          658,
          659,
          660,
          662,
          663,
          664,
          666,
          667,
          668,
          669,
          672,
          673,
          675,
          676,
          677,
          679,
          681,
          683,
          684,
          685,
          686,
          687,
          688,
          689,
          694,
          695,
          696,
          697,
          699,
          700,
          703,
          704,
          705,
          706,
          712,
          714,
          715,
          716,
          719,
          720,
          722,
          723,
          724,
          726,
          729,
          730,
          732,
          733,
          734,
          735,
          736,
          737,
          739,
          740,
          742,
          744,
          746,
          747,
          749,
          750,
          753,
          754,
          757,
          758,
          759,
          761,
          762,
          765,
          767,
          768,
          769,
          770,
          771,
          772,
          773,
          774,
          776,
          777,
          779,
          783,
          784,
          785,
          786,
          788,
          790,
          791,
          792,
          793,
          794,
          795,
          796,
          799,
          800,
          801,
          806,
          807,
          808,
          809,
          811,
          812,
          813,
          814,
          815,
          816,
          817,
          818,
          819,
          820,
          823,
          825,
          826,
          827,
          833,
          834,
          835,
          837,
          838,
          841,
          842,
          844,
          845,
          846,
          847,
          848,
          849,
          851,
          852,
          853,
          855,
          860,
          861,
          862,
          864,
          865,
          868,
          869,
          871,
          873,
          874,
          877,
          878,
          879,
          882,
          883,
          884,
          885,
          886,
          887,
          889,
          891
         ],
         "xaxis": "x",
         "y": [
          22,
          35,
          29,
          54,
          2,
          20,
          39,
          14,
          2,
          31,
          35,
          8,
          29,
          19,
          29,
          40,
          66,
          28,
          42,
          21,
          18,
          40,
          27,
          29,
          29,
          29,
          29,
          18,
          7,
          21,
          65,
          28,
          11,
          22,
          45,
          4,
          29,
          19,
          26,
          32,
          16,
          21,
          26,
          25,
          29,
          29,
          22,
          28,
          16,
          29,
          24,
          29,
          20,
          46,
          26,
          59,
          29,
          71,
          34,
          28,
          29,
          21,
          33,
          37,
          28,
          38,
          47,
          14,
          22,
          20,
          17,
          21,
          70,
          29,
          24,
          2,
          21,
          29,
          32,
          54,
          29,
          45,
          33,
          20,
          47,
          25,
          23,
          37,
          16,
          24,
          29,
          19,
          18,
          19,
          9,
          36,
          42,
          51,
          55,
          40,
          29,
          51,
          30,
          29,
          29,
          44,
          26,
          17,
          1,
          45,
          29,
          28,
          61,
          4,
          21,
          56,
          18,
          29,
          50,
          30,
          36,
          29,
          29,
          9,
          29,
          40,
          36,
          19,
          29,
          42,
          24,
          28,
          29,
          34,
          45,
          2,
          32,
          24,
          22,
          30,
          29,
          42,
          30,
          27,
          51,
          29,
          22,
          20,
          18,
          29,
          29,
          59,
          24,
          29,
          44,
          19,
          33,
          29,
          29,
          22,
          30,
          44,
          25,
          54,
          29,
          29,
          62,
          30,
          41,
          29,
          52,
          40,
          29,
          36,
          16,
          29,
          37,
          45,
          29,
          7,
          65,
          28,
          16,
          29,
          33,
          22,
          36,
          24,
          24,
          29,
          23,
          2,
          19,
          29,
          30,
          26,
          28,
          43,
          54,
          22,
          27,
          29,
          61,
          45,
          38,
          16,
          29,
          29,
          45,
          28,
          25,
          36,
          42,
          23,
          29,
          15,
          25,
          29,
          28,
          38,
          40,
          29,
          45,
          35,
          29,
          30,
          18,
          19,
          22,
          3,
          27,
          20,
          19,
          32,
          29,
          18,
          1,
          29,
          28,
          22,
          31,
          46,
          23,
          26,
          21,
          28,
          20,
          34,
          51,
          21,
          29,
          29,
          29,
          29,
          29,
          30,
          10,
          29,
          21,
          29,
          28,
          18,
          29,
          29,
          17,
          50,
          21,
          64,
          31,
          20,
          25,
          36,
          29,
          30,
          29,
          65,
          29,
          34,
          47,
          48,
          29,
          38,
          29,
          56,
          29,
          29,
          38,
          22,
          29,
          34,
          29,
          22,
          9,
          29,
          50,
          29,
          58,
          30,
          29,
          21,
          55,
          71,
          21,
          29,
          29,
          25,
          24,
          17,
          21,
          29,
          37,
          18,
          28,
          29,
          24,
          47,
          29,
          32,
          22,
          29,
          29,
          40,
          29,
          39,
          23,
          29,
          17,
          30,
          45,
          29,
          9,
          11,
          50,
          64,
          33,
          27,
          29,
          62,
          29,
          29,
          40,
          28,
          29,
          29,
          24,
          19,
          29,
          29,
          16,
          19,
          29,
          54,
          36,
          29,
          47,
          22,
          29,
          35,
          47,
          29,
          37,
          36,
          49,
          29,
          29,
          29,
          44,
          36,
          30,
          39,
          29,
          29,
          35,
          34,
          26,
          26,
          27,
          21,
          21,
          61,
          57,
          26,
          29,
          51,
          29,
          9,
          32,
          31,
          41,
          29,
          20,
          2,
          19,
          29,
          29,
          21,
          18,
          24,
          29,
          32,
          23,
          58,
          40,
          47,
          36,
          32,
          25,
          29,
          43,
          31,
          70,
          29,
          18,
          24,
          43,
          29,
          20,
          14,
          60,
          25,
          14,
          19,
          18,
          25,
          60,
          52,
          44,
          49,
          42,
          18,
          25,
          26,
          39,
          29,
          29,
          52,
          19,
          29,
          33,
          17,
          34,
          50,
          20,
          25,
          25,
          11,
          29,
          23,
          23,
          28,
          48,
          29,
          29,
          36,
          24,
          70,
          16,
          19,
          31,
          33,
          23,
          28,
          18,
          34,
          29,
          41,
          16,
          29,
          30,
          29,
          32,
          24,
          48,
          57,
          29,
          18,
          29,
          29,
          29,
          29,
          25,
          25,
          8,
          46,
          29,
          16,
          29,
          29,
          25,
          39,
          30,
          30,
          34,
          31,
          39,
          18,
          39,
          26,
          39,
          35,
          6,
          30,
          29,
          23,
          31,
          43,
          10,
          38,
          2,
          29,
          29,
          29,
          23,
          18,
          21,
          29,
          20,
          16,
          34,
          17,
          42,
          29,
          35,
          28,
          4,
          74,
          9,
          44,
          29,
          41,
          21,
          29,
          24,
          31,
          29,
          26,
          33,
          47,
          20,
          19,
          29,
          33,
          22,
          28,
          25,
          39,
          27,
          29,
          32
         ],
         "yaxis": "y"
        }
       ],
       "layout": {
        "legend": {
         "title": {
          "text": "Overleefd"
         },
         "tracegroupgap": 0
        },
        "margin": {
         "t": 60
        },
        "template": {
         "data": {
          "pie": [
           {
            "automargin": true,
            "type": "pie"
           }
          ],
          "scatter": [
           {
            "line": {
             "width": 3
            },
            "marker": {
             "size": 9
            },
            "type": "scatter"
           }
          ],
          "scatter3d": [
           {
            "line": {
             "width": 3
            },
            "marker": {
             "size": 9
            },
            "type": "scatter3d"
           }
          ],
          "scattergeo": [
           {
            "line": {
             "width": 3
            },
            "marker": {
             "size": 9
            },
            "type": "scattergeo"
           }
          ],
          "scattergl": [
           {
            "line": {
             "width": 3
            },
            "marker": {
             "size": 9
            },
            "type": "scattergl"
           }
          ],
          "scatterpolar": [
           {
            "line": {
             "width": 3
            },
            "marker": {
             "size": 9
            },
            "type": "scatterpolar"
           }
          ],
          "scatterpolargl": [
           {
            "line": {
             "width": 3
            },
            "marker": {
             "size": 9
            },
            "type": "scatterpolargl"
           }
          ],
          "scatterternary": [
           {
            "line": {
             "width": 3
            },
            "marker": {
             "size": 9
            },
            "type": "scatterternary"
           }
          ],
          "table": [
           {
            "cells": {
             "height": 30
            },
            "header": {
             "height": 36
            },
            "type": "table"
           }
          ]
         },
         "layout": {
          "font": {
           "size": 18
          },
          "xaxis": {
           "title": {
            "standoff": 15
           }
          },
          "yaxis": {
           "title": {
            "standoff": 15
           }
          }
         }
        },
        "xaxis": {
         "anchor": "y",
         "domain": [
          0,
          1
         ],
         "title": {
          "text": "Passagier_Id"
         }
        },
        "yaxis": {
         "anchor": "x",
         "domain": [
          0,
          1
         ],
         "title": {
          "text": "Leeftijd"
         }
        }
       }
      }
     },
     "metadata": {},
     "output_type": "display_data"
    },
    {
     "data": {
      "application/vnd.plotly.v1+json": {
       "config": {
        "plotlyServerURL": "https://plot.ly"
       },
       "data": [
        {
         "alignmentgroup": "True",
         "hovertemplate": "Overleefd=Ja<br>Ticket_klasse=%{x}<br>Aantal=%{y}<extra></extra>",
         "legendgroup": "Ja",
         "marker": {
          "color": "#00A9A4",
          "pattern": {
           "shape": ""
          }
         },
         "name": "Ja",
         "offsetgroup": "Ja",
         "orientation": "v",
         "showlegend": true,
         "textposition": "auto",
         "type": "bar",
         "x": [
          "Derde klas",
          "Eerste klas",
          "Tweede klas"
         ],
         "xaxis": "x",
         "y": [
          119,
          134,
          87
         ],
         "yaxis": "y"
        },
        {
         "alignmentgroup": "True",
         "hovertemplate": "Overleefd=Nee<br>Ticket_klasse=%{x}<br>Aantal=%{y}<extra></extra>",
         "legendgroup": "Nee",
         "marker": {
          "color": "#F2C80F",
          "pattern": {
           "shape": ""
          }
         },
         "name": "Nee",
         "offsetgroup": "Nee",
         "orientation": "v",
         "showlegend": true,
         "textposition": "auto",
         "type": "bar",
         "x": [
          "Derde klas",
          "Eerste klas",
          "Tweede klas"
         ],
         "xaxis": "x",
         "y": [
          372,
          80,
          97
         ],
         "yaxis": "y"
        }
       ],
       "layout": {
        "barmode": "relative",
        "legend": {
         "title": {
          "text": "Overleefd"
         },
         "tracegroupgap": 0
        },
        "margin": {
         "t": 60
        },
        "template": {
         "data": {
          "pie": [
           {
            "automargin": true,
            "type": "pie"
           }
          ],
          "scatter": [
           {
            "line": {
             "width": 3
            },
            "marker": {
             "size": 9
            },
            "type": "scatter"
           }
          ],
          "scatter3d": [
           {
            "line": {
             "width": 3
            },
            "marker": {
             "size": 9
            },
            "type": "scatter3d"
           }
          ],
          "scattergeo": [
           {
            "line": {
             "width": 3
            },
            "marker": {
             "size": 9
            },
            "type": "scattergeo"
           }
          ],
          "scattergl": [
           {
            "line": {
             "width": 3
            },
            "marker": {
             "size": 9
            },
            "type": "scattergl"
           }
          ],
          "scatterpolar": [
           {
            "line": {
             "width": 3
            },
            "marker": {
             "size": 9
            },
            "type": "scatterpolar"
           }
          ],
          "scatterpolargl": [
           {
            "line": {
             "width": 3
            },
            "marker": {
             "size": 9
            },
            "type": "scatterpolargl"
           }
          ],
          "scatterternary": [
           {
            "line": {
             "width": 3
            },
            "marker": {
             "size": 9
            },
            "type": "scatterternary"
           }
          ],
          "table": [
           {
            "cells": {
             "height": 30
            },
            "header": {
             "height": 36
            },
            "type": "table"
           }
          ]
         },
         "layout": {
          "font": {
           "size": 18
          },
          "xaxis": {
           "title": {
            "standoff": 15
           }
          },
          "yaxis": {
           "title": {
            "standoff": 15
           }
          }
         }
        },
        "xaxis": {
         "anchor": "y",
         "domain": [
          0,
          1
         ],
         "title": {
          "text": "Ticket_klasse"
         }
        },
        "yaxis": {
         "anchor": "x",
         "domain": [
          0,
          1
         ],
         "title": {
          "text": "Aantal"
         }
        }
       }
      }
     },
     "metadata": {},
     "output_type": "display_data"
    },
    {
     "data": {
      "application/vnd.plotly.v1+json": {
       "config": {
        "plotlyServerURL": "https://plot.ly"
       },
       "data": [
        {
         "alignmentgroup": "True",
         "hovertemplate": "Overleefd=Ja<br>Geslacht=Man<br>Opstapplaats=%{x}<br>Aantal=%{y}<extra></extra>",
         "legendgroup": "Ja",
         "marker": {
          "color": "#00A9A4",
          "pattern": {
           "shape": ""
          }
         },
         "name": "Ja",
         "offsetgroup": "Ja",
         "orientation": "v",
         "showlegend": true,
         "textposition": "auto",
         "type": "bar",
         "x": [
          "Engeland",
          "Frankrijk",
          "Ierland"
         ],
         "xaxis": "x",
         "y": [
          77,
          29,
          3
         ],
         "yaxis": "y"
        },
        {
         "alignmentgroup": "True",
         "hovertemplate": "Overleefd=Ja<br>Geslacht=Vrouw<br>Opstapplaats=%{x}<br>Aantal=%{y}<extra></extra>",
         "legendgroup": "Ja",
         "marker": {
          "color": "#00A9A4",
          "pattern": {
           "shape": ""
          }
         },
         "name": "Ja",
         "offsetgroup": "Ja",
         "orientation": "v",
         "showlegend": false,
         "textposition": "auto",
         "type": "bar",
         "x": [
          "Engeland",
          "Frankrijk",
          "Ierland"
         ],
         "xaxis": "x2",
         "y": [
          140,
          64,
          27
         ],
         "yaxis": "y2"
        },
        {
         "alignmentgroup": "True",
         "hovertemplate": "Overleefd=Nee<br>Geslacht=Man<br>Opstapplaats=%{x}<br>Aantal=%{y}<extra></extra>",
         "legendgroup": "Nee",
         "marker": {
          "color": "#F2C80F",
          "pattern": {
           "shape": ""
          }
         },
         "name": "Nee",
         "offsetgroup": "Nee",
         "orientation": "v",
         "showlegend": true,
         "textposition": "auto",
         "type": "bar",
         "x": [
          "Engeland",
          "Frankrijk",
          "Ierland"
         ],
         "xaxis": "x",
         "y": [
          364,
          66,
          38
         ],
         "yaxis": "y"
        },
        {
         "alignmentgroup": "True",
         "hovertemplate": "Overleefd=Nee<br>Geslacht=Vrouw<br>Opstapplaats=%{x}<br>Aantal=%{y}<extra></extra>",
         "legendgroup": "Nee",
         "marker": {
          "color": "#F2C80F",
          "pattern": {
           "shape": ""
          }
         },
         "name": "Nee",
         "offsetgroup": "Nee",
         "orientation": "v",
         "showlegend": false,
         "textposition": "auto",
         "type": "bar",
         "x": [
          "Engeland",
          "Frankrijk",
          "Ierland"
         ],
         "xaxis": "x2",
         "y": [
          63,
          9,
          9
         ],
         "yaxis": "y2"
        }
       ],
       "layout": {
        "annotations": [
         {
          "font": {},
          "showarrow": false,
          "text": "Geslacht=Man",
          "x": 0.245,
          "xanchor": "center",
          "xref": "paper",
          "y": 1,
          "yanchor": "bottom",
          "yref": "paper"
         },
         {
          "font": {},
          "showarrow": false,
          "text": "Geslacht=Vrouw",
          "x": 0.755,
          "xanchor": "center",
          "xref": "paper",
          "y": 1,
          "yanchor": "bottom",
          "yref": "paper"
         }
        ],
        "barmode": "relative",
        "legend": {
         "title": {
          "text": "Overleefd"
         },
         "tracegroupgap": 0
        },
        "margin": {
         "t": 60
        },
        "template": {
         "data": {
          "pie": [
           {
            "automargin": true,
            "type": "pie"
           }
          ],
          "scatter": [
           {
            "line": {
             "width": 3
            },
            "marker": {
             "size": 9
            },
            "type": "scatter"
           }
          ],
          "scatter3d": [
           {
            "line": {
             "width": 3
            },
            "marker": {
             "size": 9
            },
            "type": "scatter3d"
           }
          ],
          "scattergeo": [
           {
            "line": {
             "width": 3
            },
            "marker": {
             "size": 9
            },
            "type": "scattergeo"
           }
          ],
          "scattergl": [
           {
            "line": {
             "width": 3
            },
            "marker": {
             "size": 9
            },
            "type": "scattergl"
           }
          ],
          "scatterpolar": [
           {
            "line": {
             "width": 3
            },
            "marker": {
             "size": 9
            },
            "type": "scatterpolar"
           }
          ],
          "scatterpolargl": [
           {
            "line": {
             "width": 3
            },
            "marker": {
             "size": 9
            },
            "type": "scatterpolargl"
           }
          ],
          "scatterternary": [
           {
            "line": {
             "width": 3
            },
            "marker": {
             "size": 9
            },
            "type": "scatterternary"
           }
          ],
          "table": [
           {
            "cells": {
             "height": 30
            },
            "header": {
             "height": 36
            },
            "type": "table"
           }
          ]
         },
         "layout": {
          "font": {
           "size": 18
          },
          "xaxis": {
           "title": {
            "standoff": 15
           }
          },
          "yaxis": {
           "title": {
            "standoff": 15
           }
          }
         }
        },
        "xaxis": {
         "anchor": "y",
         "domain": [
          0,
          0.49
         ],
         "title": {
          "text": "Opstapplaats"
         }
        },
        "xaxis2": {
         "anchor": "y2",
         "domain": [
          0.51,
          1
         ],
         "matches": "x",
         "title": {
          "text": "Opstapplaats"
         }
        },
        "yaxis": {
         "anchor": "x",
         "domain": [
          0,
          1
         ],
         "title": {
          "text": "Aantal"
         }
        },
        "yaxis2": {
         "anchor": "x2",
         "domain": [
          0,
          1
         ],
         "matches": "y",
         "showticklabels": false
        }
       }
      }
     },
     "metadata": {},
     "output_type": "display_data"
    },
    {
     "data": {
      "application/vnd.plotly.v1+json": {
       "config": {
        "plotlyServerURL": "https://plot.ly"
       },
       "data": [
        {
         "alignmentgroup": "True",
         "hovertemplate": "Overleefd=Ja<br>Aantal_overige_familieleden=%{x}<br>Percentage=%{y}<extra></extra>",
         "legendgroup": "Ja",
         "marker": {
          "color": "#00A9A4",
          "pattern": {
           "shape": ""
          }
         },
         "name": "Ja",
         "offsetgroup": "Ja",
         "orientation": "v",
         "showlegend": true,
         "textposition": "auto",
         "type": "bar",
         "x": [
          0,
          1,
          2,
          3,
          4
         ],
         "xaxis": "x",
         "y": [
          34.32343234323432,
          53.588516746411486,
          46.42857142857143,
          25,
          16.666666666666664
         ],
         "yaxis": "y"
        },
        {
         "alignmentgroup": "True",
         "hovertemplate": "Overleefd=Nee<br>Aantal_overige_familieleden=%{x}<br>Percentage=%{y}<extra></extra>",
         "legendgroup": "Nee",
         "marker": {
          "color": "#F2C80F",
          "pattern": {
           "shape": ""
          }
         },
         "name": "Nee",
         "offsetgroup": "Nee",
         "orientation": "v",
         "showlegend": true,
         "textposition": "auto",
         "type": "bar",
         "x": [
          0,
          1,
          2,
          3,
          4,
          5,
          8
         ],
         "xaxis": "x",
         "y": [
          65.67656765676567,
          46.411483253588514,
          53.57142857142857,
          75,
          83.33333333333334,
          100,
          100
         ],
         "yaxis": "y"
        }
       ],
       "layout": {
        "barmode": "relative",
        "legend": {
         "title": {
          "text": "Overleefd"
         },
         "tracegroupgap": 0
        },
        "margin": {
         "t": 60
        },
        "template": {
         "data": {
          "pie": [
           {
            "automargin": true,
            "type": "pie"
           }
          ],
          "scatter": [
           {
            "line": {
             "width": 3
            },
            "marker": {
             "size": 9
            },
            "type": "scatter"
           }
          ],
          "scatter3d": [
           {
            "line": {
             "width": 3
            },
            "marker": {
             "size": 9
            },
            "type": "scatter3d"
           }
          ],
          "scattergeo": [
           {
            "line": {
             "width": 3
            },
            "marker": {
             "size": 9
            },
            "type": "scattergeo"
           }
          ],
          "scattergl": [
           {
            "line": {
             "width": 3
            },
            "marker": {
             "size": 9
            },
            "type": "scattergl"
           }
          ],
          "scatterpolar": [
           {
            "line": {
             "width": 3
            },
            "marker": {
             "size": 9
            },
            "type": "scatterpolar"
           }
          ],
          "scatterpolargl": [
           {
            "line": {
             "width": 3
            },
            "marker": {
             "size": 9
            },
            "type": "scatterpolargl"
           }
          ],
          "scatterternary": [
           {
            "line": {
             "width": 3
            },
            "marker": {
             "size": 9
            },
            "type": "scatterternary"
           }
          ],
          "table": [
           {
            "cells": {
             "height": 30
            },
            "header": {
             "height": 36
            },
            "type": "table"
           }
          ]
         },
         "layout": {
          "font": {
           "size": 18
          },
          "xaxis": {
           "title": {
            "standoff": 15
           }
          },
          "yaxis": {
           "title": {
            "standoff": 15
           }
          }
         }
        },
        "xaxis": {
         "anchor": "y",
         "domain": [
          0,
          1
         ],
         "title": {
          "text": "Aantal_overige_familieleden"
         }
        },
        "yaxis": {
         "anchor": "x",
         "domain": [
          0,
          1
         ],
         "title": {
          "text": "Percentage"
         }
        }
       }
      }
     },
     "metadata": {},
     "output_type": "display_data"
    }
   ],
   "source": [
    "display(df_train_clean.head())\n",
    "basis_feiten(df=df_train_clean)\n",
    "EDA_visualisaties(df=df_train_clean)"
   ]
  },
  {
   "cell_type": "code",
   "execution_count": 4,
   "metadata": {},
   "outputs": [
    {
     "data": {
      "application/vnd.plotly.v1+json": {
       "config": {
        "plotlyServerURL": "https://plot.ly"
       },
       "data": [
        {
         "colorscale": [
          [
           0,
           "rgb(103,0,31)"
          ],
          [
           0.1,
           "rgb(178,24,43)"
          ],
          [
           0.2,
           "rgb(214,96,77)"
          ],
          [
           0.3,
           "rgb(244,165,130)"
          ],
          [
           0.4,
           "rgb(253,219,199)"
          ],
          [
           0.5,
           "rgb(247,247,247)"
          ],
          [
           0.6,
           "rgb(209,229,240)"
          ],
          [
           0.7,
           "rgb(146,197,222)"
          ],
          [
           0.8,
           "rgb(67,147,195)"
          ],
          [
           0.9,
           "rgb(33,102,172)"
          ],
          [
           1,
           "rgb(5,48,97)"
          ]
         ],
         "hoverinfo": "none",
         "reversescale": false,
         "showscale": true,
         "type": "heatmap",
         "x": [
          "Passagier_Id",
          "Leeftijd",
          "Aantal_kinderen",
          "Aantal_overige_familieleden"
         ],
         "xgap": 1,
         "y": [
          "Passagier_Id",
          "Leeftijd",
          "Aantal_kinderen",
          "Aantal_overige_familieleden"
         ],
         "ygap": 1,
         "z": [
          [
           0.03,
           null,
           null,
           null
          ],
          [
           0,
           -0.18,
           null,
           null
          ],
          [
           -0.06,
           -0.23,
           0.41,
           null
          ],
          [
           0.01,
           0.09,
           0.22,
           0.16
          ]
         ]
        }
       ],
       "layout": {
        "annotations": [
         {
          "font": {
           "color": "black"
          },
          "showarrow": false,
          "text": "0.03",
          "x": "Passagier_Id",
          "xref": "x",
          "y": "Passagier_Id",
          "yref": "y"
         },
         {
          "font": {
           "color": "black"
          },
          "showarrow": false,
          "text": "",
          "x": "Leeftijd",
          "xref": "x",
          "y": "Passagier_Id",
          "yref": "y"
         },
         {
          "font": {
           "color": "black"
          },
          "showarrow": false,
          "text": "",
          "x": "Aantal_kinderen",
          "xref": "x",
          "y": "Passagier_Id",
          "yref": "y"
         },
         {
          "font": {
           "color": "black"
          },
          "showarrow": false,
          "text": "",
          "x": "Aantal_overige_familieleden",
          "xref": "x",
          "y": "Passagier_Id",
          "yref": "y"
         },
         {
          "font": {
           "color": "black"
          },
          "showarrow": false,
          "text": "-0.0",
          "x": "Passagier_Id",
          "xref": "x",
          "y": "Leeftijd",
          "yref": "y"
         },
         {
          "font": {
           "color": "black"
          },
          "showarrow": false,
          "text": "-0.18",
          "x": "Leeftijd",
          "xref": "x",
          "y": "Leeftijd",
          "yref": "y"
         },
         {
          "font": {
           "color": "black"
          },
          "showarrow": false,
          "text": "",
          "x": "Aantal_kinderen",
          "xref": "x",
          "y": "Leeftijd",
          "yref": "y"
         },
         {
          "font": {
           "color": "black"
          },
          "showarrow": false,
          "text": "",
          "x": "Aantal_overige_familieleden",
          "xref": "x",
          "y": "Leeftijd",
          "yref": "y"
         },
         {
          "font": {
           "color": "black"
          },
          "showarrow": false,
          "text": "-0.06",
          "x": "Passagier_Id",
          "xref": "x",
          "y": "Aantal_kinderen",
          "yref": "y"
         },
         {
          "font": {
           "color": "black"
          },
          "showarrow": false,
          "text": "-0.23",
          "x": "Leeftijd",
          "xref": "x",
          "y": "Aantal_kinderen",
          "yref": "y"
         },
         {
          "font": {
           "color": "black"
          },
          "showarrow": false,
          "text": "0.41",
          "x": "Aantal_kinderen",
          "xref": "x",
          "y": "Aantal_kinderen",
          "yref": "y"
         },
         {
          "font": {
           "color": "black"
          },
          "showarrow": false,
          "text": "",
          "x": "Aantal_overige_familieleden",
          "xref": "x",
          "y": "Aantal_kinderen",
          "yref": "y"
         },
         {
          "font": {
           "color": "black"
          },
          "showarrow": false,
          "text": "0.01",
          "x": "Passagier_Id",
          "xref": "x",
          "y": "Aantal_overige_familieleden",
          "yref": "y"
         },
         {
          "font": {
           "color": "black"
          },
          "showarrow": false,
          "text": "0.09",
          "x": "Leeftijd",
          "xref": "x",
          "y": "Aantal_overige_familieleden",
          "yref": "y"
         },
         {
          "font": {
           "color": "black"
          },
          "showarrow": false,
          "text": "0.22",
          "x": "Aantal_kinderen",
          "xref": "x",
          "y": "Aantal_overige_familieleden",
          "yref": "y"
         },
         {
          "font": {
           "color": "black"
          },
          "showarrow": false,
          "text": "0.16",
          "x": "Aantal_overige_familieleden",
          "xref": "x",
          "y": "Aantal_overige_familieleden",
          "yref": "y"
         }
        ],
        "height": 1000,
        "template": {
         "data": {
          "bar": [
           {
            "error_x": {
             "color": "#2a3f5f"
            },
            "error_y": {
             "color": "#2a3f5f"
            },
            "marker": {
             "line": {
              "color": "white",
              "width": 0.5
             },
             "pattern": {
              "fillmode": "overlay",
              "size": 10,
              "solidity": 0.2
             }
            },
            "type": "bar"
           }
          ],
          "barpolar": [
           {
            "marker": {
             "line": {
              "color": "white",
              "width": 0.5
             },
             "pattern": {
              "fillmode": "overlay",
              "size": 10,
              "solidity": 0.2
             }
            },
            "type": "barpolar"
           }
          ],
          "carpet": [
           {
            "aaxis": {
             "endlinecolor": "#2a3f5f",
             "gridcolor": "#C8D4E3",
             "linecolor": "#C8D4E3",
             "minorgridcolor": "#C8D4E3",
             "startlinecolor": "#2a3f5f"
            },
            "baxis": {
             "endlinecolor": "#2a3f5f",
             "gridcolor": "#C8D4E3",
             "linecolor": "#C8D4E3",
             "minorgridcolor": "#C8D4E3",
             "startlinecolor": "#2a3f5f"
            },
            "type": "carpet"
           }
          ],
          "choropleth": [
           {
            "colorbar": {
             "outlinewidth": 0,
             "ticks": ""
            },
            "type": "choropleth"
           }
          ],
          "contour": [
           {
            "colorbar": {
             "outlinewidth": 0,
             "ticks": ""
            },
            "colorscale": [
             [
              0,
              "#0d0887"
             ],
             [
              0.1111111111111111,
              "#46039f"
             ],
             [
              0.2222222222222222,
              "#7201a8"
             ],
             [
              0.3333333333333333,
              "#9c179e"
             ],
             [
              0.4444444444444444,
              "#bd3786"
             ],
             [
              0.5555555555555556,
              "#d8576b"
             ],
             [
              0.6666666666666666,
              "#ed7953"
             ],
             [
              0.7777777777777778,
              "#fb9f3a"
             ],
             [
              0.8888888888888888,
              "#fdca26"
             ],
             [
              1,
              "#f0f921"
             ]
            ],
            "type": "contour"
           }
          ],
          "contourcarpet": [
           {
            "colorbar": {
             "outlinewidth": 0,
             "ticks": ""
            },
            "type": "contourcarpet"
           }
          ],
          "heatmap": [
           {
            "colorbar": {
             "outlinewidth": 0,
             "ticks": ""
            },
            "colorscale": [
             [
              0,
              "#0d0887"
             ],
             [
              0.1111111111111111,
              "#46039f"
             ],
             [
              0.2222222222222222,
              "#7201a8"
             ],
             [
              0.3333333333333333,
              "#9c179e"
             ],
             [
              0.4444444444444444,
              "#bd3786"
             ],
             [
              0.5555555555555556,
              "#d8576b"
             ],
             [
              0.6666666666666666,
              "#ed7953"
             ],
             [
              0.7777777777777778,
              "#fb9f3a"
             ],
             [
              0.8888888888888888,
              "#fdca26"
             ],
             [
              1,
              "#f0f921"
             ]
            ],
            "type": "heatmap"
           }
          ],
          "heatmapgl": [
           {
            "colorbar": {
             "outlinewidth": 0,
             "ticks": ""
            },
            "colorscale": [
             [
              0,
              "#0d0887"
             ],
             [
              0.1111111111111111,
              "#46039f"
             ],
             [
              0.2222222222222222,
              "#7201a8"
             ],
             [
              0.3333333333333333,
              "#9c179e"
             ],
             [
              0.4444444444444444,
              "#bd3786"
             ],
             [
              0.5555555555555556,
              "#d8576b"
             ],
             [
              0.6666666666666666,
              "#ed7953"
             ],
             [
              0.7777777777777778,
              "#fb9f3a"
             ],
             [
              0.8888888888888888,
              "#fdca26"
             ],
             [
              1,
              "#f0f921"
             ]
            ],
            "type": "heatmapgl"
           }
          ],
          "histogram": [
           {
            "marker": {
             "pattern": {
              "fillmode": "overlay",
              "size": 10,
              "solidity": 0.2
             }
            },
            "type": "histogram"
           }
          ],
          "histogram2d": [
           {
            "colorbar": {
             "outlinewidth": 0,
             "ticks": ""
            },
            "colorscale": [
             [
              0,
              "#0d0887"
             ],
             [
              0.1111111111111111,
              "#46039f"
             ],
             [
              0.2222222222222222,
              "#7201a8"
             ],
             [
              0.3333333333333333,
              "#9c179e"
             ],
             [
              0.4444444444444444,
              "#bd3786"
             ],
             [
              0.5555555555555556,
              "#d8576b"
             ],
             [
              0.6666666666666666,
              "#ed7953"
             ],
             [
              0.7777777777777778,
              "#fb9f3a"
             ],
             [
              0.8888888888888888,
              "#fdca26"
             ],
             [
              1,
              "#f0f921"
             ]
            ],
            "type": "histogram2d"
           }
          ],
          "histogram2dcontour": [
           {
            "colorbar": {
             "outlinewidth": 0,
             "ticks": ""
            },
            "colorscale": [
             [
              0,
              "#0d0887"
             ],
             [
              0.1111111111111111,
              "#46039f"
             ],
             [
              0.2222222222222222,
              "#7201a8"
             ],
             [
              0.3333333333333333,
              "#9c179e"
             ],
             [
              0.4444444444444444,
              "#bd3786"
             ],
             [
              0.5555555555555556,
              "#d8576b"
             ],
             [
              0.6666666666666666,
              "#ed7953"
             ],
             [
              0.7777777777777778,
              "#fb9f3a"
             ],
             [
              0.8888888888888888,
              "#fdca26"
             ],
             [
              1,
              "#f0f921"
             ]
            ],
            "type": "histogram2dcontour"
           }
          ],
          "mesh3d": [
           {
            "colorbar": {
             "outlinewidth": 0,
             "ticks": ""
            },
            "type": "mesh3d"
           }
          ],
          "parcoords": [
           {
            "line": {
             "colorbar": {
              "outlinewidth": 0,
              "ticks": ""
             }
            },
            "type": "parcoords"
           }
          ],
          "pie": [
           {
            "automargin": true,
            "type": "pie"
           }
          ],
          "scatter": [
           {
            "fillpattern": {
             "fillmode": "overlay",
             "size": 10,
             "solidity": 0.2
            },
            "type": "scatter"
           }
          ],
          "scatter3d": [
           {
            "line": {
             "colorbar": {
              "outlinewidth": 0,
              "ticks": ""
             }
            },
            "marker": {
             "colorbar": {
              "outlinewidth": 0,
              "ticks": ""
             }
            },
            "type": "scatter3d"
           }
          ],
          "scattercarpet": [
           {
            "marker": {
             "colorbar": {
              "outlinewidth": 0,
              "ticks": ""
             }
            },
            "type": "scattercarpet"
           }
          ],
          "scattergeo": [
           {
            "marker": {
             "colorbar": {
              "outlinewidth": 0,
              "ticks": ""
             }
            },
            "type": "scattergeo"
           }
          ],
          "scattergl": [
           {
            "marker": {
             "colorbar": {
              "outlinewidth": 0,
              "ticks": ""
             }
            },
            "type": "scattergl"
           }
          ],
          "scattermapbox": [
           {
            "marker": {
             "colorbar": {
              "outlinewidth": 0,
              "ticks": ""
             }
            },
            "type": "scattermapbox"
           }
          ],
          "scatterpolar": [
           {
            "marker": {
             "colorbar": {
              "outlinewidth": 0,
              "ticks": ""
             }
            },
            "type": "scatterpolar"
           }
          ],
          "scatterpolargl": [
           {
            "marker": {
             "colorbar": {
              "outlinewidth": 0,
              "ticks": ""
             }
            },
            "type": "scatterpolargl"
           }
          ],
          "scatterternary": [
           {
            "marker": {
             "colorbar": {
              "outlinewidth": 0,
              "ticks": ""
             }
            },
            "type": "scatterternary"
           }
          ],
          "surface": [
           {
            "colorbar": {
             "outlinewidth": 0,
             "ticks": ""
            },
            "colorscale": [
             [
              0,
              "#0d0887"
             ],
             [
              0.1111111111111111,
              "#46039f"
             ],
             [
              0.2222222222222222,
              "#7201a8"
             ],
             [
              0.3333333333333333,
              "#9c179e"
             ],
             [
              0.4444444444444444,
              "#bd3786"
             ],
             [
              0.5555555555555556,
              "#d8576b"
             ],
             [
              0.6666666666666666,
              "#ed7953"
             ],
             [
              0.7777777777777778,
              "#fb9f3a"
             ],
             [
              0.8888888888888888,
              "#fdca26"
             ],
             [
              1,
              "#f0f921"
             ]
            ],
            "type": "surface"
           }
          ],
          "table": [
           {
            "cells": {
             "fill": {
              "color": "#EBF0F8"
             },
             "line": {
              "color": "white"
             }
            },
            "header": {
             "fill": {
              "color": "#C8D4E3"
             },
             "line": {
              "color": "white"
             }
            },
            "type": "table"
           }
          ]
         },
         "layout": {
          "annotationdefaults": {
           "arrowcolor": "#2a3f5f",
           "arrowhead": 0,
           "arrowwidth": 1
          },
          "autotypenumbers": "strict",
          "coloraxis": {
           "colorbar": {
            "outlinewidth": 0,
            "ticks": ""
           }
          },
          "colorscale": {
           "diverging": [
            [
             0,
             "#8e0152"
            ],
            [
             0.1,
             "#c51b7d"
            ],
            [
             0.2,
             "#de77ae"
            ],
            [
             0.3,
             "#f1b6da"
            ],
            [
             0.4,
             "#fde0ef"
            ],
            [
             0.5,
             "#f7f7f7"
            ],
            [
             0.6,
             "#e6f5d0"
            ],
            [
             0.7,
             "#b8e186"
            ],
            [
             0.8,
             "#7fbc41"
            ],
            [
             0.9,
             "#4d9221"
            ],
            [
             1,
             "#276419"
            ]
           ],
           "sequential": [
            [
             0,
             "#0d0887"
            ],
            [
             0.1111111111111111,
             "#46039f"
            ],
            [
             0.2222222222222222,
             "#7201a8"
            ],
            [
             0.3333333333333333,
             "#9c179e"
            ],
            [
             0.4444444444444444,
             "#bd3786"
            ],
            [
             0.5555555555555556,
             "#d8576b"
            ],
            [
             0.6666666666666666,
             "#ed7953"
            ],
            [
             0.7777777777777778,
             "#fb9f3a"
            ],
            [
             0.8888888888888888,
             "#fdca26"
            ],
            [
             1,
             "#f0f921"
            ]
           ],
           "sequentialminus": [
            [
             0,
             "#0d0887"
            ],
            [
             0.1111111111111111,
             "#46039f"
            ],
            [
             0.2222222222222222,
             "#7201a8"
            ],
            [
             0.3333333333333333,
             "#9c179e"
            ],
            [
             0.4444444444444444,
             "#bd3786"
            ],
            [
             0.5555555555555556,
             "#d8576b"
            ],
            [
             0.6666666666666666,
             "#ed7953"
            ],
            [
             0.7777777777777778,
             "#fb9f3a"
            ],
            [
             0.8888888888888888,
             "#fdca26"
            ],
            [
             1,
             "#f0f921"
            ]
           ]
          },
          "colorway": [
           "#636efa",
           "#EF553B",
           "#00cc96",
           "#ab63fa",
           "#FFA15A",
           "#19d3f3",
           "#FF6692",
           "#B6E880",
           "#FF97FF",
           "#FECB52"
          ],
          "font": {
           "color": "#2a3f5f"
          },
          "geo": {
           "bgcolor": "white",
           "lakecolor": "white",
           "landcolor": "white",
           "showlakes": true,
           "showland": true,
           "subunitcolor": "#C8D4E3"
          },
          "hoverlabel": {
           "align": "left"
          },
          "hovermode": "closest",
          "mapbox": {
           "style": "light"
          },
          "paper_bgcolor": "white",
          "plot_bgcolor": "white",
          "polar": {
           "angularaxis": {
            "gridcolor": "#EBF0F8",
            "linecolor": "#EBF0F8",
            "ticks": ""
           },
           "bgcolor": "white",
           "radialaxis": {
            "gridcolor": "#EBF0F8",
            "linecolor": "#EBF0F8",
            "ticks": ""
           }
          },
          "scene": {
           "xaxis": {
            "backgroundcolor": "white",
            "gridcolor": "#DFE8F3",
            "gridwidth": 2,
            "linecolor": "#EBF0F8",
            "showbackground": true,
            "ticks": "",
            "zerolinecolor": "#EBF0F8"
           },
           "yaxis": {
            "backgroundcolor": "white",
            "gridcolor": "#DFE8F3",
            "gridwidth": 2,
            "linecolor": "#EBF0F8",
            "showbackground": true,
            "ticks": "",
            "zerolinecolor": "#EBF0F8"
           },
           "zaxis": {
            "backgroundcolor": "white",
            "gridcolor": "#DFE8F3",
            "gridwidth": 2,
            "linecolor": "#EBF0F8",
            "showbackground": true,
            "ticks": "",
            "zerolinecolor": "#EBF0F8"
           }
          },
          "shapedefaults": {
           "line": {
            "color": "#2a3f5f"
           }
          },
          "ternary": {
           "aaxis": {
            "gridcolor": "#DFE8F3",
            "linecolor": "#A2B1C6",
            "ticks": ""
           },
           "baxis": {
            "gridcolor": "#DFE8F3",
            "linecolor": "#A2B1C6",
            "ticks": ""
           },
           "bgcolor": "white",
           "caxis": {
            "gridcolor": "#DFE8F3",
            "linecolor": "#A2B1C6",
            "ticks": ""
           }
          },
          "title": {
           "x": 0.05
          },
          "xaxis": {
           "automargin": true,
           "gridcolor": "#EBF0F8",
           "linecolor": "#EBF0F8",
           "ticks": "",
           "title": {
            "standoff": 15
           },
           "zerolinecolor": "#EBF0F8",
           "zerolinewidth": 2
          },
          "yaxis": {
           "automargin": true,
           "gridcolor": "#EBF0F8",
           "linecolor": "#EBF0F8",
           "ticks": "",
           "title": {
            "standoff": 15
           },
           "zerolinecolor": "#EBF0F8",
           "zerolinewidth": 2
          }
         }
        },
        "title": {
         "text": "Correlatie heatmap",
         "x": 0.5
        },
        "width": 1000,
        "xaxis": {
         "dtick": 1,
         "gridcolor": "rgb(0, 0, 0)",
         "showgrid": false,
         "side": "bottom",
         "ticks": "",
         "zeroline": false
        },
        "yaxis": {
         "autorange": "reversed",
         "dtick": 1,
         "showgrid": false,
         "ticks": "",
         "ticksuffix": "  ",
         "zeroline": false
        }
       }
      }
     },
     "metadata": {},
     "output_type": "display_data"
    }
   ],
   "source": [
    "correlatie_heatmap(df=df_train_clean)"
   ]
  },
  {
   "cell_type": "code",
   "execution_count": null,
   "metadata": {},
   "outputs": [],
   "source": []
  },
  {
   "cell_type": "code",
   "execution_count": null,
   "metadata": {},
   "outputs": [],
   "source": []
  }
 ],
 "metadata": {
  "kernelspec": {
   "display_name": "dsa_playground",
   "language": "python",
   "name": "python3"
  },
  "language_info": {
   "codemirror_mode": {
    "name": "ipython",
    "version": 3
   },
   "file_extension": ".py",
   "mimetype": "text/x-python",
   "name": "python",
   "nbconvert_exporter": "python",
   "pygments_lexer": "ipython3",
   "version": "3.8.16"
  },
  "orig_nbformat": 4
 },
 "nbformat": 4,
 "nbformat_minor": 2
}
