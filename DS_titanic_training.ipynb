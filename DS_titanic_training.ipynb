{
 "cells": [
  {
   "cell_type": "code",
   "execution_count": null,
   "metadata": {},
   "outputs": [],
   "source": [
    "!git clone https://github.com/dsa-playground/tvt2023.git\n",
    "%cd /content/tvt2023/\n",
    "!git pull\n",
    "!pip install -r requirements.txt -t \"tvt2023\""
   ]
  },
  {
   "attachments": {},
   "cell_type": "markdown",
   "metadata": {},
   "source": [
    "# Inleiding\n",
    "\n",
    "### Use case\n",
    "Titanic algemeen, kans op overleven, maar zou jij het overleefd hebben?!\n",
    "Met Machine Learning kun je middels algoritmes bepalen of iemand wel of niet overleefd heeft gezien de beschikbare variabelen.  \n",
    "\n",
    "### Instructies omgeving\n",
    "Stukje over Google Colab met de belangrijkste toets-combinaties / ... \n",
    "\n",
    "### Imports & settings\n",
    "Importeer de functies benodigd voor de training (of... dit gebeurd in cellen vooraf door cursusleider)"
   ]
  },
  {
   "cell_type": "code",
   "execution_count": null,
   "metadata": {},
   "outputs": [],
   "source": [
    "# Imports\n",
    "import pandas as pd\n",
    "from scripts.preprocess.preprocess_frontend import zie_settings, laden_data, opschonen_data, numeriek_maken_data, voeg_passagiers_toe\n",
    "from scripts.modeling.modeling_frontend import train_and_save_model, voorspelling_genereren\n",
    "\n",
    "# Settings\n",
    "# settings for pandas\n",
    "pd.set_option(\"display.max.columns\",None) # alle kolommen tonen\n",
    "pd.set_option(\"display.max.rows\",500)    # eerste 500 rijen tonen\n",
    "pd.set_option(\"display.precision\", 2)     # precisie van de kolommen aanpassen\n",
    "pd.set_option('display.float_format', lambda x: '{:.3f}'.format(x)) # floats output tot 3 decimalen\n",
    "pd.set_option('display.max_colwidth', None)"
   ]
  },
  {
   "cell_type": "code",
   "execution_count": null,
   "metadata": {},
   "outputs": [],
   "source": [
    "_config = zie_settings()"
   ]
  },
  {
   "attachments": {},
   "cell_type": "markdown",
   "metadata": {},
   "source": [
    "Toelichting Data Science, train/test principe. \n",
    "\n",
    "Laten we eens gaan kijken naar de dataset voor het trainen en testen van een model...\n"
   ]
  },
  {
   "cell_type": "code",
   "execution_count": null,
   "metadata": {},
   "outputs": [],
   "source": [
    "df_train, df_test = laden_data()\n",
    "display(df_train.head(), df_test.head())"
   ]
  },
  {
   "attachments": {},
   "cell_type": "markdown",
   "metadata": {},
   "source": [
    "Nou, daar zit een hoop rommel in, laten we die eerst eens wat begrijpelijker maken:\n",
    "* uitleg stappen"
   ]
  },
  {
   "cell_type": "code",
   "execution_count": null,
   "metadata": {},
   "outputs": [],
   "source": [
    "df_train_clean, df_test_clean = opschonen_data(df_train, df_test)\n",
    "display(df_train_clean.head(), df_test_clean.head())"
   ]
  },
  {
   "attachments": {},
   "cell_type": "markdown",
   "metadata": {},
   "source": [
    "Nu we de data geschoond hebben, laten we eens kijken welke inzichten we kunnen halen uit deze data:\n",
    "* Supervette EDA"
   ]
  },
  {
   "cell_type": "code",
   "execution_count": null,
   "metadata": {},
   "outputs": [],
   "source": [
    "df_train_num, df_test_num = numeriek_maken_data(df_train_clean, df_test_clean)\n",
    "display(df_train_num.head(), df_test_num.head())"
   ]
  },
  {
   "attachments": {},
   "cell_type": "markdown",
   "metadata": {},
   "source": [
    "Toelichting dataset (naslagwerk):\n",
    "...\n",
    "\n",
    "Laten we onszelf toevoegen aan de dataset.\n",
    "\n",
    "Mogelijke vraag (om te kijken of ze opletten/begrepen hebben): Welke dataset zou dat zijn?!\n"
   ]
  },
  {
   "cell_type": "code",
   "execution_count": null,
   "metadata": {},
   "outputs": [],
   "source": [
    "df_train_extended, df_test_extended = voeg_passagiers_toe(df_train_num, df_test_num)\n",
    "display(df_train_extended.tail(), df_test_extended.tail())"
   ]
  },
  {
   "cell_type": "code",
   "execution_count": null,
   "metadata": {},
   "outputs": [],
   "source": []
  },
  {
   "cell_type": "code",
   "execution_count": null,
   "metadata": {},
   "outputs": [],
   "source": [
    "train_and_save_model(df=df_train_extended)"
   ]
  },
  {
   "cell_type": "code",
   "execution_count": null,
   "metadata": {},
   "outputs": [],
   "source": [
    "df_voorspelling = voorspelling_genereren(X=df_test_extended)"
   ]
  },
  {
   "cell_type": "code",
   "execution_count": null,
   "metadata": {},
   "outputs": [],
   "source": []
  },
  {
   "cell_type": "code",
   "execution_count": null,
   "metadata": {},
   "outputs": [],
   "source": []
  },
  {
   "cell_type": "code",
   "execution_count": null,
   "metadata": {},
   "outputs": [],
   "source": []
  },
  {
   "cell_type": "code",
   "execution_count": null,
   "metadata": {},
   "outputs": [],
   "source": [
    "# df_test_extended.tail()\n",
    "df_train_num.columns"
   ]
  },
  {
   "cell_type": "code",
   "execution_count": null,
   "metadata": {},
   "outputs": [],
   "source": [
    "testlist = df_train_num.columns\n",
    "m1 = ['Overleefd']\n",
    "not_in_testlist = list(set(testlist) - set(m1))\n",
    "not_in_testlist"
   ]
  },
  {
   "cell_type": "code",
   "execution_count": null,
   "metadata": {},
   "outputs": [],
   "source": [
    "from sklearn.model_selection import train_test_split\n",
    "X=df_train_num[['Geslacht', 'Leeftijd', 'Opstapplaats', 'Aantal_kinderen',\n",
    "       'Aantal_overige_familieleden', 'Ticket_klasse', 'Ticket_prijs']]\n",
    "y=df_train_num['Overleefd']\n",
    "# X_test = df_test_num[['Geslacht', 'Leeftijd', 'Opstapplaats', 'Aantal_kinderen',\n",
    "#        'Aantal_overige_familieleden', 'Ticket_klasse', 'Ticket_prijs']]\n",
    "X_train, X_test, y_train, y_test = train_test_split(X, y,\n",
    "    test_size = 0.2, random_state=1)"
   ]
  },
  {
   "cell_type": "code",
   "execution_count": null,
   "metadata": {},
   "outputs": [],
   "source": [
    "from sklearn.neighbors import KNeighborsClassifier\n",
    "from sklearn.metrics import accuracy_score\n",
    "\n",
    "acc = []\n",
    "\n",
    "for i in range(1,20):\n",
    "    knn = KNeighborsClassifier(n_neighbors = i)\n",
    "    knn.fit(X_train,y_train)\n",
    "    yhat = knn.predict(X_test)\n",
    "    acc.append(accuracy_score(y_test,yhat))\n",
    "    print(\"For k = \",i,\" : \",accuracy_score(y_test,yhat))"
   ]
  },
  {
   "cell_type": "code",
   "execution_count": null,
   "metadata": {},
   "outputs": [],
   "source": [
    "# plt.figure(figsize=(8,6))\n",
    "# plt.plot(range(1,20),acc, marker = \"o\")\n",
    "# plt.xlabel(\"Value of k\")\n",
    "# plt.ylabel(\"Accuracy Score\")\n",
    "# plt.title(\"Finding the right k\")\n",
    "# plt.xticks(range(1,20))\n",
    "# plt.show()\n",
    "max(acc)"
   ]
  },
  {
   "cell_type": "code",
   "execution_count": null,
   "metadata": {},
   "outputs": [],
   "source": [
    "acc.index(max(acc))"
   ]
  },
  {
   "cell_type": "code",
   "execution_count": null,
   "metadata": {},
   "outputs": [],
   "source": []
  },
  {
   "cell_type": "code",
   "execution_count": null,
   "metadata": {},
   "outputs": [],
   "source": [
    "import plotly.express as px\n",
    "\n",
    "df = df = pd.DataFrame(dict(\n",
    "    Num_neighbours = range(1,20),\n",
    "    accuracy_score = acc\n",
    "))\n",
    "fig = px.line(df, x=\"Num_neighbours\", y=\"accuracy_score\")\n",
    "fig.show()"
   ]
  },
  {
   "cell_type": "code",
   "execution_count": null,
   "metadata": {},
   "outputs": [],
   "source": [
    "KNN = KNeighborsClassifier(n_neighbors = 3)\n",
    "KNN.fit(X,y)\n",
    "y_pred = KNN.predict(X_test)\n",
    "df_KNN = pd.DataFrame()\n",
    "# df_KNN[\"PassengerId\"] = test2[\"PassengerId\"]\n",
    "# df_KNN[\"Survived\"] = y_pred"
   ]
  },
  {
   "cell_type": "code",
   "execution_count": null,
   "metadata": {},
   "outputs": [],
   "source": [
    "X_test['Overleefd']=y_pred"
   ]
  },
  {
   "cell_type": "code",
   "execution_count": null,
   "metadata": {},
   "outputs": [],
   "source": [
    "X_test"
   ]
  },
  {
   "cell_type": "code",
   "execution_count": null,
   "metadata": {},
   "outputs": [],
   "source": []
  },
  {
   "cell_type": "code",
   "execution_count": null,
   "metadata": {},
   "outputs": [],
   "source": []
  },
  {
   "cell_type": "code",
   "execution_count": null,
   "metadata": {},
   "outputs": [],
   "source": []
  },
  {
   "cell_type": "code",
   "execution_count": null,
   "metadata": {},
   "outputs": [],
   "source": [
    "_config['preprocess']['data']['collect']['transform_multi']"
   ]
  },
  {
   "attachments": {},
   "cell_type": "markdown",
   "metadata": {},
   "source": [
    "toevoegen_passagiers() # pop-up venster?"
   ]
  },
  {
   "cell_type": "code",
   "execution_count": null,
   "metadata": {},
   "outputs": [],
   "source": []
  },
  {
   "cell_type": "code",
   "execution_count": null,
   "metadata": {},
   "outputs": [],
   "source": []
  },
  {
   "cell_type": "code",
   "execution_count": null,
   "metadata": {},
   "outputs": [],
   "source": []
  },
  {
   "cell_type": "code",
   "execution_count": null,
   "metadata": {},
   "outputs": [],
   "source": []
  },
  {
   "attachments": {},
   "cell_type": "markdown",
   "metadata": {},
   "source": [
    "EDA"
   ]
  },
  {
   "attachments": {},
   "cell_type": "markdown",
   "metadata": {},
   "source": [
    "Toelichting trainen / algoritme?\n",
    "Iets over classificatie algoritme (x aantal opties). Nu zijn immers 2 opties: Wel / niet overleven. \n",
    "\n",
    "Willen we nog iets doen met train_test_split? Zo ja, dan test set hernoemen in tekst?"
   ]
  },
  {
   "cell_type": "markdown",
   "metadata": {},
   "source": [
    "Trainen van model / evaluatie?"
   ]
  },
  {
   "attachments": {},
   "cell_type": "markdown",
   "metadata": {},
   "source": [
    "Voorspellen testset met deelnemers training + visualisaties"
   ]
  },
  {
   "cell_type": "markdown",
   "metadata": {},
   "source": []
  },
  {
   "cell_type": "code",
   "execution_count": null,
   "metadata": {},
   "outputs": [],
   "source": [
    "\n"
   ]
  },
  {
   "cell_type": "code",
   "execution_count": null,
   "metadata": {},
   "outputs": [],
   "source": []
  }
 ],
 "metadata": {
  "kernelspec": {
   "display_name": "dsa_playground",
   "language": "python",
   "name": "python3"
  },
  "language_info": {
   "codemirror_mode": {
    "name": "ipython",
    "version": 3
   },
   "file_extension": ".py",
   "mimetype": "text/x-python",
   "name": "python",
   "nbconvert_exporter": "python",
   "pygments_lexer": "ipython3",
   "version": "3.8.16"
  },
  "orig_nbformat": 4
 },
 "nbformat": 4,
 "nbformat_minor": 2
}
